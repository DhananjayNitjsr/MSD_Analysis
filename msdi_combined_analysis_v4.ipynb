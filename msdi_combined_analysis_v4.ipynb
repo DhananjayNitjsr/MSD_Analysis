{
  "nbformat": 4,
  "nbformat_minor": 0,
  "metadata": {
    "colab": {
      "name": "msdi_combined_analysis_v4.ipynb",
      "provenance": [],
      "collapsed_sections": []
    },
    "kernelspec": {
      "display_name": "Python 3",
      "language": "python",
      "name": "python3"
    },
    "language_info": {
      "codemirror_mode": {
        "name": "ipython",
        "version": 3
      },
      "file_extension": ".py",
      "mimetype": "text/x-python",
      "name": "python",
      "nbconvert_exporter": "python",
      "pygments_lexer": "ipython3",
      "version": "3.8.5"
    }
  },
  "cells": [
    {
      "cell_type": "markdown",
      "metadata": {
        "id": "B29NTDjUWXfk"
      },
      "source": [
        "## MSDI Combined Analysis"
      ]
    },
    {
      "cell_type": "code",
      "metadata": {
        "id": "g9-OnT6W-Jpp"
      },
      "source": [
        "import pandas as pd\n",
        "import numpy as np\n",
        "import tables\n",
        "import h5py\n",
        "import pickle\n",
        "\n",
        "import math\n",
        "import random\n",
        "\n",
        "import os, sys, glob\n",
        "from pathlib import Path\n",
        "\n",
        "import keras\n",
        "from keras import layers\n",
        "from keras import Sequential\n",
        "from keras.layers import Dense, Activation, Flatten, Conv2D, Dropout, MaxPooling2D, BatchNormalization\n",
        "\n",
        "import tensorflow as tf\n",
        "\n",
        "from sklearn.model_selection import train_test_split\n",
        "\n",
        "import matplotlib.pyplot as plt\n",
        "import seaborn as sns"
      ],
      "execution_count": 1,
      "outputs": []
    },
    {
      "cell_type": "code",
      "metadata": {
        "id": "cBZWFDx2DZvw"
      },
      "source": [
        "import requests\n",
        "\n",
        "def download_file_from_google_drive(id, destination):\n",
        "    def get_confirm_token(response):\n",
        "        for key, value in response.cookies.items():\n",
        "            if key.startswith('download_warning'):\n",
        "                return value\n",
        "\n",
        "        return None\n",
        "\n",
        "    def save_response_content(response, destination):\n",
        "        CHUNK_SIZE = 3276800\n",
        "\n",
        "        with open(destination, \"wb\") as f:\n",
        "            for chunk in response.iter_content(CHUNK_SIZE):\n",
        "                if chunk: # filter out keep-alive new chunks\n",
        "                    f.write(chunk)\n",
        "\n",
        "    URL = \"https://drive.google.com/u/0/uc?export=download\"\n",
        "\n",
        "    session = requests.Session()\n",
        "\n",
        "    response = session.get(URL, params = { 'id' : id }, stream = True)\n",
        "    token = get_confirm_token(response)\n",
        "\n",
        "    if token:\n",
        "        params = { 'id' : id, 'confirm' : token }\n",
        "        response = session.get(URL, params = params, stream = True)\n",
        "\n",
        "    save_response_content(response, destination)    \n",
        "\n",
        "\n"
      ],
      "execution_count": null,
      "outputs": []
    },
    {
      "cell_type": "code",
      "metadata": {
        "id": "Pgp4uu9hlrey"
      },
      "source": [
        "# TAKE ID FROM SHAREABLE LINK\n",
        "#https://drive.google.com/file/d/1wduOo4DLWGEAF44odjv6BQlsxYsO_0c6/view?usp=sharing\n",
        "file_id = r'1wduOo4DLWGEAF44odjv6BQlsxYsO_0c6'\n",
        "# DESTINATION FILE ON YOUR DISK\n",
        "destination = 'shortlisted_tracks_df.pkl' #pickle4\n",
        "download_file_from_google_drive(file_id, destination)"
      ],
      "execution_count": null,
      "outputs": []
    },
    {
      "cell_type": "code",
      "metadata": {
        "id": "PMqLDaUumPSX"
      },
      "source": [
        "# TAKE ID FROM SHAREABLE LINK\n",
        "#https://drive.google.com/file/d/1dhgh0ZPptiqBFHZ1vPhBU6-GH39k2NPY/view?usp=sharing\n",
        "file_id = r'1dhgh0ZPptiqBFHZ1vPhBU6-GH39k2NPY'\n",
        "# DESTINATION FILE ON YOUR DISK\n",
        "destination = 'msd_data.zip'\n",
        "download_file_from_google_drive(file_id, destination)"
      ],
      "execution_count": null,
      "outputs": []
    },
    {
      "cell_type": "code",
      "metadata": {
        "id": "yFily8Aak4tI"
      },
      "source": [
        "!rm -rf msd_data\n",
        "!unzip -q msd_data.zip"
      ],
      "execution_count": null,
      "outputs": []
    },
    {
      "cell_type": "code",
      "metadata": {
        "id": "bL9dBuym7kZG"
      },
      "source": [
        "# TAKE ID FROM SHAREABLE LINK\n",
        "#https://drive.google.com/file/d/1T3uoNvxdC-u7ImJf8xOkqRssQio_WmKf/view?usp=sharing\n",
        "file_id = r'1T3uoNvxdC-u7ImJf8xOkqRssQio_WmKf'\n",
        "# DESTINATION FILE ON YOUR DISK\n",
        "destination = 'lyric_df.pkl' #pickle4\n",
        "download_file_from_google_drive(file_id, destination)"
      ],
      "execution_count": null,
      "outputs": []
    },
    {
      "cell_type": "code",
      "metadata": {
        "id": "CNurZfEl7LQA"
      },
      "source": [
        "# TAKE ID FROM SHAREABLE LINK\n",
        "#https://drive.google.com/file/d/16VKAXPeAbqbOSrfZp2SSBajh3KezftuM/view?usp=sharing\n",
        "file_id = r'16VKAXPeAbqbOSrfZp2SSBajh3KezftuM'\n",
        "# DESTINATION FILE ON YOUR DISK\n",
        "destination = 'aart_data.zip'\n",
        "download_file_from_google_drive(file_id, destination)"
      ],
      "execution_count": null,
      "outputs": []
    },
    {
      "cell_type": "code",
      "metadata": {
        "id": "Mkx8jBgC7Le_"
      },
      "source": [
        "!rm -rf aart_data\n",
        "!unzip -q aart_data.zip"
      ],
      "execution_count": null,
      "outputs": []
    },
    {
      "cell_type": "code",
      "metadata": {
        "id": "WHtK355c-Jpr"
      },
      "source": [
        "with open('shortlisted_tracks_df' +'.pkl', 'rb') as handle:\n",
        "    shortlisted_tracks_df = pickle.load(handle)"
      ],
      "execution_count": null,
      "outputs": []
    },
    {
      "cell_type": "code",
      "metadata": {
        "scrolled": false,
        "id": "pp3tmo2o-Jpr",
        "colab": {
          "base_uri": "https://localhost:8080/",
          "height": 455
        },
        "outputId": "206bb227-249a-4179-d0d1-58d441c79356"
      },
      "source": [
        "shortlisted_tracks_df"
      ],
      "execution_count": null,
      "outputs": [
        {
          "output_type": "execute_result",
          "data": {
            "text/html": [
              "<div>\n",
              "<style scoped>\n",
              "    .dataframe tbody tr th:only-of-type {\n",
              "        vertical-align: middle;\n",
              "    }\n",
              "\n",
              "    .dataframe tbody tr th {\n",
              "        vertical-align: top;\n",
              "    }\n",
              "\n",
              "    .dataframe thead th {\n",
              "        text-align: right;\n",
              "    }\n",
              "</style>\n",
              "<table border=\"1\" class=\"dataframe\">\n",
              "  <thead>\n",
              "    <tr style=\"text-align: right;\">\n",
              "      <th></th>\n",
              "      <th>Genre</th>\n",
              "    </tr>\n",
              "    <tr>\n",
              "      <th>TrackId</th>\n",
              "      <th></th>\n",
              "    </tr>\n",
              "  </thead>\n",
              "  <tbody>\n",
              "    <tr>\n",
              "      <th>TREQVVI128F427C38E</th>\n",
              "      <td>Country</td>\n",
              "    </tr>\n",
              "    <tr>\n",
              "      <th>TRYCYSD128F148CF20</th>\n",
              "      <td>Country</td>\n",
              "    </tr>\n",
              "    <tr>\n",
              "      <th>TRLCZET12903D03F70</th>\n",
              "      <td>Country</td>\n",
              "    </tr>\n",
              "    <tr>\n",
              "      <th>TRJORPT128F42BAA8D</th>\n",
              "      <td>Country</td>\n",
              "    </tr>\n",
              "    <tr>\n",
              "      <th>TROBJYA128F42A2984</th>\n",
              "      <td>Country</td>\n",
              "    </tr>\n",
              "    <tr>\n",
              "      <th>...</th>\n",
              "      <td>...</td>\n",
              "    </tr>\n",
              "    <tr>\n",
              "      <th>TRQFZEO128E07930BC</th>\n",
              "      <td>Rock</td>\n",
              "    </tr>\n",
              "    <tr>\n",
              "      <th>TRNSWUN128F4247F87</th>\n",
              "      <td>Rock</td>\n",
              "    </tr>\n",
              "    <tr>\n",
              "      <th>TRLENOU128F4281E94</th>\n",
              "      <td>Rock</td>\n",
              "    </tr>\n",
              "    <tr>\n",
              "      <th>TRDTSQP128F421C665</th>\n",
              "      <td>Rock</td>\n",
              "    </tr>\n",
              "    <tr>\n",
              "      <th>TRPZCPQ128F4234D19</th>\n",
              "      <td>Rock</td>\n",
              "    </tr>\n",
              "  </tbody>\n",
              "</table>\n",
              "<p>4900 rows × 1 columns</p>\n",
              "</div>"
            ],
            "text/plain": [
              "                      Genre\n",
              "TrackId                    \n",
              "TREQVVI128F427C38E  Country\n",
              "TRYCYSD128F148CF20  Country\n",
              "TRLCZET12903D03F70  Country\n",
              "TRJORPT128F42BAA8D  Country\n",
              "TROBJYA128F42A2984  Country\n",
              "...                     ...\n",
              "TRQFZEO128E07930BC     Rock\n",
              "TRNSWUN128F4247F87     Rock\n",
              "TRLENOU128F4281E94     Rock\n",
              "TRDTSQP128F421C665     Rock\n",
              "TRPZCPQ128F4234D19     Rock\n",
              "\n",
              "[4900 rows x 1 columns]"
            ]
          },
          "metadata": {},
          "execution_count": 10
        }
      ]
    },
    {
      "cell_type": "code",
      "metadata": {
        "colab": {
          "base_uri": "https://localhost:8080/",
          "height": 455
        },
        "id": "oSILUhaXBPXg",
        "outputId": "416c3c57-0507-4bb5-eae9-6e3f073a34ab"
      },
      "source": [
        "track_genre_df = shortlisted_tracks_df.sample(frac=1, random_state=1)\n",
        "track_genre_df"
      ],
      "execution_count": null,
      "outputs": [
        {
          "output_type": "execute_result",
          "data": {
            "text/html": [
              "<div>\n",
              "<style scoped>\n",
              "    .dataframe tbody tr th:only-of-type {\n",
              "        vertical-align: middle;\n",
              "    }\n",
              "\n",
              "    .dataframe tbody tr th {\n",
              "        vertical-align: top;\n",
              "    }\n",
              "\n",
              "    .dataframe thead th {\n",
              "        text-align: right;\n",
              "    }\n",
              "</style>\n",
              "<table border=\"1\" class=\"dataframe\">\n",
              "  <thead>\n",
              "    <tr style=\"text-align: right;\">\n",
              "      <th></th>\n",
              "      <th>Genre</th>\n",
              "    </tr>\n",
              "    <tr>\n",
              "      <th>TrackId</th>\n",
              "      <th></th>\n",
              "    </tr>\n",
              "  </thead>\n",
              "  <tbody>\n",
              "    <tr>\n",
              "      <th>TRQNZED128F42968DB</th>\n",
              "      <td>Electronic</td>\n",
              "    </tr>\n",
              "    <tr>\n",
              "      <th>TRNXIPI128F93038E3</th>\n",
              "      <td>Rock</td>\n",
              "    </tr>\n",
              "    <tr>\n",
              "      <th>TRMXKFV128F428EFF3</th>\n",
              "      <td>Pop</td>\n",
              "    </tr>\n",
              "    <tr>\n",
              "      <th>TRZBVCE128F92C2951</th>\n",
              "      <td>Metal</td>\n",
              "    </tr>\n",
              "    <tr>\n",
              "      <th>TRNOFGZ128E07860D0</th>\n",
              "      <td>Rap</td>\n",
              "    </tr>\n",
              "    <tr>\n",
              "      <th>...</th>\n",
              "      <td>...</td>\n",
              "    </tr>\n",
              "    <tr>\n",
              "      <th>TRIARZC12903CB4BC4</th>\n",
              "      <td>Rap</td>\n",
              "    </tr>\n",
              "    <tr>\n",
              "      <th>TRBNQWY128F4257C00</th>\n",
              "      <td>Pop</td>\n",
              "    </tr>\n",
              "    <tr>\n",
              "      <th>TRTSSYQ128F42BCDD4</th>\n",
              "      <td>Electronic</td>\n",
              "    </tr>\n",
              "    <tr>\n",
              "      <th>TRDXJEQ128F9336A21</th>\n",
              "      <td>RnB</td>\n",
              "    </tr>\n",
              "    <tr>\n",
              "      <th>TRUKQJH128E0789AF1</th>\n",
              "      <td>Country</td>\n",
              "    </tr>\n",
              "  </tbody>\n",
              "</table>\n",
              "<p>4900 rows × 1 columns</p>\n",
              "</div>"
            ],
            "text/plain": [
              "                         Genre\n",
              "TrackId                       \n",
              "TRQNZED128F42968DB  Electronic\n",
              "TRNXIPI128F93038E3        Rock\n",
              "TRMXKFV128F428EFF3         Pop\n",
              "TRZBVCE128F92C2951       Metal\n",
              "TRNOFGZ128E07860D0         Rap\n",
              "...                        ...\n",
              "TRIARZC12903CB4BC4         Rap\n",
              "TRBNQWY128F4257C00         Pop\n",
              "TRTSSYQ128F42BCDD4  Electronic\n",
              "TRDXJEQ128F9336A21         RnB\n",
              "TRUKQJH128E0789AF1     Country\n",
              "\n",
              "[4900 rows x 1 columns]"
            ]
          },
          "metadata": {},
          "execution_count": 11
        }
      ]
    },
    {
      "cell_type": "code",
      "metadata": {
        "colab": {
          "base_uri": "https://localhost:8080/"
        },
        "id": "cTCh-TcIFSgA",
        "outputId": "406131bb-c6ce-4667-f474-4ab59e3547e7"
      },
      "source": [
        "track_count = len(track_genre_df.index.values)\n",
        "track_count"
      ],
      "execution_count": null,
      "outputs": [
        {
          "output_type": "execute_result",
          "data": {
            "text/plain": [
              "4900"
            ]
          },
          "metadata": {},
          "execution_count": 12
        }
      ]
    },
    {
      "cell_type": "code",
      "metadata": {
        "colab": {
          "base_uri": "https://localhost:8080/"
        },
        "id": "XRADCq7sBSTv",
        "outputId": "fe68828c-bdce-4540-d830-3f347305b0b0"
      },
      "source": [
        "genre_labels = list(track_genre_df['Genre'].unique())\n",
        "genre_count = len(genre_labels)\n",
        "print(genre_labels, \"count: \", genre_count)"
      ],
      "execution_count": null,
      "outputs": [
        {
          "output_type": "stream",
          "name": "stdout",
          "text": [
            "['Electronic', 'Rock', 'Pop', 'Metal', 'Rap', 'RnB', 'Country'] count:  7\n"
          ]
        }
      ]
    },
    {
      "cell_type": "code",
      "metadata": {
        "id": "CFFGbY4Y8lcD"
      },
      "source": [
        "with open('lyric_df' +'.pkl', 'rb') as handle:\n",
        "    lyric_df = pickle.load(handle)"
      ],
      "execution_count": null,
      "outputs": []
    },
    {
      "cell_type": "code",
      "metadata": {
        "id": "S_Qqy5H_8tMn",
        "colab": {
          "base_uri": "https://localhost:8080/",
          "height": 455
        },
        "outputId": "b4eec71e-f53f-459b-e7b0-f95ef1c94575"
      },
      "source": [
        "lyric_df"
      ],
      "execution_count": null,
      "outputs": [
        {
          "output_type": "execute_result",
          "data": {
            "text/html": [
              "<div>\n",
              "<style scoped>\n",
              "    .dataframe tbody tr th:only-of-type {\n",
              "        vertical-align: middle;\n",
              "    }\n",
              "\n",
              "    .dataframe tbody tr th {\n",
              "        vertical-align: top;\n",
              "    }\n",
              "\n",
              "    .dataframe thead th {\n",
              "        text-align: right;\n",
              "    }\n",
              "</style>\n",
              "<table border=\"1\" class=\"dataframe\">\n",
              "  <thead>\n",
              "    <tr style=\"text-align: right;\">\n",
              "      <th></th>\n",
              "      <th>Genre</th>\n",
              "      <th>wordvec</th>\n",
              "    </tr>\n",
              "    <tr>\n",
              "      <th>TrackId</th>\n",
              "      <th></th>\n",
              "      <th></th>\n",
              "    </tr>\n",
              "  </thead>\n",
              "  <tbody>\n",
              "    <tr>\n",
              "      <th>TREQVVI128F427C38E</th>\n",
              "      <td>Country</td>\n",
              "      <td>[8, 3, 7, 4, 9, 2, 3, 3, 2, 2, 7, 1, 0, 0, 7, ...</td>\n",
              "    </tr>\n",
              "    <tr>\n",
              "      <th>TRYCYSD128F148CF20</th>\n",
              "      <td>Country</td>\n",
              "      <td>[14, 4, 37, 0, 3, 0, 1, 0, 0, 3, 4, 0, 4, 3, 2...</td>\n",
              "    </tr>\n",
              "    <tr>\n",
              "      <th>TRLCZET12903D03F70</th>\n",
              "      <td>Country</td>\n",
              "      <td>[5, 17, 0, 6, 8, 14, 1, 0, 0, 8, 4, 1, 7, 0, 0...</td>\n",
              "    </tr>\n",
              "    <tr>\n",
              "      <th>TRJORPT128F42BAA8D</th>\n",
              "      <td>Country</td>\n",
              "      <td>[16, 3, 14, 7, 1, 6, 3, 2, 9, 0, 0, 4, 0, 3, 7...</td>\n",
              "    </tr>\n",
              "    <tr>\n",
              "      <th>TROBJYA128F42A2984</th>\n",
              "      <td>Country</td>\n",
              "      <td>[13, 5, 10, 8, 4, 2, 0, 1, 7, 1, 0, 1, 2, 2, 5...</td>\n",
              "    </tr>\n",
              "    <tr>\n",
              "      <th>...</th>\n",
              "      <td>...</td>\n",
              "      <td>...</td>\n",
              "    </tr>\n",
              "    <tr>\n",
              "      <th>TRQFZEO128E07930BC</th>\n",
              "      <td>Rock</td>\n",
              "      <td>[35, 7, 23, 10, 5, 1, 0, 9, 6, 0, 0, 4, 0, 5, ...</td>\n",
              "    </tr>\n",
              "    <tr>\n",
              "      <th>TRNSWUN128F4247F87</th>\n",
              "      <td>Rock</td>\n",
              "      <td>[8, 9, 0, 4, 3, 6, 0, 0, 0, 8, 1, 3, 0, 0, 2, ...</td>\n",
              "    </tr>\n",
              "    <tr>\n",
              "      <th>TRLENOU128F4281E94</th>\n",
              "      <td>Rock</td>\n",
              "      <td>[0, 0, 0, 0, 0, 24, 62, 0, 0, 0, 0, 0, 0, 0, 0...</td>\n",
              "    </tr>\n",
              "    <tr>\n",
              "      <th>TRDTSQP128F421C665</th>\n",
              "      <td>Rock</td>\n",
              "      <td>[19, 12, 0, 5, 7, 0, 9, 7, 0, 1, 0, 0, 2, 1, 1...</td>\n",
              "    </tr>\n",
              "    <tr>\n",
              "      <th>TRPZCPQ128F4234D19</th>\n",
              "      <td>Rock</td>\n",
              "      <td>[12, 1, 10, 5, 5, 6, 1, 4, 1, 3, 1, 2, 2, 0, 0...</td>\n",
              "    </tr>\n",
              "  </tbody>\n",
              "</table>\n",
              "<p>4900 rows × 2 columns</p>\n",
              "</div>"
            ],
            "text/plain": [
              "                      Genre                                            wordvec\n",
              "TrackId                                                                       \n",
              "TREQVVI128F427C38E  Country  [8, 3, 7, 4, 9, 2, 3, 3, 2, 2, 7, 1, 0, 0, 7, ...\n",
              "TRYCYSD128F148CF20  Country  [14, 4, 37, 0, 3, 0, 1, 0, 0, 3, 4, 0, 4, 3, 2...\n",
              "TRLCZET12903D03F70  Country  [5, 17, 0, 6, 8, 14, 1, 0, 0, 8, 4, 1, 7, 0, 0...\n",
              "TRJORPT128F42BAA8D  Country  [16, 3, 14, 7, 1, 6, 3, 2, 9, 0, 0, 4, 0, 3, 7...\n",
              "TROBJYA128F42A2984  Country  [13, 5, 10, 8, 4, 2, 0, 1, 7, 1, 0, 1, 2, 2, 5...\n",
              "...                     ...                                                ...\n",
              "TRQFZEO128E07930BC     Rock  [35, 7, 23, 10, 5, 1, 0, 9, 6, 0, 0, 4, 0, 5, ...\n",
              "TRNSWUN128F4247F87     Rock  [8, 9, 0, 4, 3, 6, 0, 0, 0, 8, 1, 3, 0, 0, 2, ...\n",
              "TRLENOU128F4281E94     Rock  [0, 0, 0, 0, 0, 24, 62, 0, 0, 0, 0, 0, 0, 0, 0...\n",
              "TRDTSQP128F421C665     Rock  [19, 12, 0, 5, 7, 0, 9, 7, 0, 1, 0, 0, 2, 1, 1...\n",
              "TRPZCPQ128F4234D19     Rock  [12, 1, 10, 5, 5, 6, 1, 4, 1, 3, 1, 2, 2, 0, 0...\n",
              "\n",
              "[4900 rows x 2 columns]"
            ]
          },
          "metadata": {},
          "execution_count": 15
        }
      ]
    },
    {
      "cell_type": "code",
      "metadata": {
        "id": "Obkx--2VoqMf"
      },
      "source": [
        "msdi_genres = np.zeros((track_count, genre_count), dtype=np.float32)\n",
        "for i, track_id in enumerate(track_genre_df.index.values):\n",
        "  msdi_genres[i][genre_labels.index(track_genre_df['Genre'].iloc[i])] = 1"
      ],
      "execution_count": null,
      "outputs": []
    },
    {
      "cell_type": "code",
      "metadata": {
        "id": "D-Aw59vn6Bkj"
      },
      "source": [
        "modelling_test_size = 0.3\n",
        "y_train, y_test = train_test_split(msdi_genres, test_size=modelling_test_size, random_state=1)"
      ],
      "execution_count": null,
      "outputs": []
    },
    {
      "cell_type": "code",
      "metadata": {
        "id": "NgB8JF2jhso0"
      },
      "source": [
        "mfcc_count = 12\n",
        "seg_count = 512\n",
        "msdi_mfcc_values = np.zeros((track_count, mfcc_count), dtype=np.float32)\n",
        "#msdi_mfcc_values = np.zeros((track_count, seg_count, mfcc_count), dtype=np.float32)\n",
        "track_seg_counts = []\n",
        "\n",
        "for i, track_id in enumerate(track_genre_df.index.values):\n",
        "    filepath = 'msd_data/' + track_id[2] + '/' + track_id[3] + '/' + track_id[4] + '/' + track_id + '.h5'\n",
        "    try:\n",
        "      hfile = h5py.File(filepath, 'r')\n",
        "      track_mfcc_tmp = np.array(hfile['analysis']['segments_timbre'])\n",
        "      '''track_seg_counts.append(track_mfcc_tmp.shape[0])\n",
        "      track_seg_count = min(track_mfcc_tmp.shape[0], seg_count)\n",
        "      fill_count = 0\n",
        "      while fill_count < seg_count:\n",
        "        fill_count_tmp = min(track_seg_count, (seg_count-fill_count))\n",
        "        msdi_mfcc_values[i][fill_count:fill_count+fill_count_tmp] = track_mfcc_tmp[:fill_count_tmp]\n",
        "        fill_count = fill_count + fill_count_tmp\n",
        "      '''\n",
        "      msdi_mfcc_values[i] = np.mean(track_mfcc_tmp, axis=0)\n",
        "      hfile.close()\n",
        "    except (RuntimeError, TypeError, NameError, OSError):\n",
        "      print('failed for file: ', filepath)"
      ],
      "execution_count": null,
      "outputs": []
    },
    {
      "cell_type": "code",
      "metadata": {
        "id": "mong8d6Uhstv"
      },
      "source": [
        "x_train_mfcc, x_test_mfcc = train_test_split(msdi_mfcc_values, test_size=modelling_test_size, random_state=1)\n",
        "msdi_mfcc_values = None"
      ],
      "execution_count": null,
      "outputs": []
    },
    {
      "cell_type": "code",
      "metadata": {
        "id": "iVDKgtMl3gdc"
      },
      "source": [
        "def get_mfcc_model_cnn(input_shape, num_classes):\n",
        "\n",
        "  model = Sequential()\n",
        "  model.add(Dense(256, input_shape=input_shape, activation='relu', kernel_initializer='he_uniform'))\n",
        "  #model.add(BatchNormalization())\n",
        "\n",
        "  model.add(Dense(512, activation='relu', kernel_initializer='he_uniform'))\n",
        "  model.add(Dropout(0.25))\n",
        "\n",
        "  model.add(Dense(512, activation='relu', kernel_initializer='he_uniform'))\n",
        "  model.add(Dropout(0.5))\n",
        "\n",
        "  model.add(Dense(num_classes, activation='softmax', kernel_initializer='he_uniform'))\n",
        "  #opt = tf.keras.optimizers.Adam(lr=0.0001)\n",
        "  model.compile(loss=keras.losses.categorical_crossentropy,\n",
        "              #optimizer=opt,\n",
        "              optimizer='adam',\n",
        "              metrics=['accuracy'])\n",
        "  #model.summary\n",
        "  return model"
      ],
      "execution_count": null,
      "outputs": []
    },
    {
      "cell_type": "code",
      "metadata": {
        "colab": {
          "base_uri": "https://localhost:8080/"
        },
        "id": "moUlFJb036fo",
        "outputId": "d63015df-5ce2-4d6c-c0e4-6df183ad0e10"
      },
      "source": [
        "x_train = x_train_mfcc#np.std(x_train_mfcc, axis=1)\n",
        "x_test = x_test_mfcc#np.std(x_test_mfcc, axis=1)\n",
        "input_shape = (x_train.shape[1], )\n",
        "model = get_mfcc_model_cnn(input_shape, genre_count)\n",
        "#x_train = x_train_mfcc.reshape(x_train_mfcc.shape[0], x_train_mfcc.shape[1], mfcc_count, 1)\n",
        "#x_test = x_test_mfcc.reshape(x_test_mfcc.shape[0], x_train_mfcc.shape[1], mfcc_count, 1)\n",
        "\n",
        "\n",
        "callback = tf.keras.callbacks.EarlyStopping(monitor='loss', patience=4)\n",
        "history_mfcc = model.fit(x_train, y_train, epochs=100, batch_size=128, callbacks=[callback], verbose=1, validation_data=(x_test, y_test))\n",
        "model_mfcc = model"
      ],
      "execution_count": null,
      "outputs": [
        {
          "output_type": "stream",
          "name": "stdout",
          "text": [
            "Epoch 1/100\n",
            "27/27 [==============================] - 2s 15ms/step - loss: 27.5432 - accuracy: 0.2688 - val_loss: 4.8857 - val_accuracy: 0.4544\n",
            "Epoch 2/100\n",
            "27/27 [==============================] - 0s 8ms/step - loss: 6.5420 - accuracy: 0.3364 - val_loss: 1.6822 - val_accuracy: 0.4408\n",
            "Epoch 3/100\n",
            "27/27 [==============================] - 0s 8ms/step - loss: 3.1433 - accuracy: 0.3306 - val_loss: 1.6293 - val_accuracy: 0.3803\n",
            "Epoch 4/100\n",
            "27/27 [==============================] - 0s 7ms/step - loss: 2.1160 - accuracy: 0.3149 - val_loss: 1.6911 - val_accuracy: 0.3667\n",
            "Epoch 5/100\n",
            "27/27 [==============================] - 0s 8ms/step - loss: 1.8770 - accuracy: 0.3341 - val_loss: 1.6283 - val_accuracy: 0.3918\n",
            "Epoch 6/100\n",
            "27/27 [==============================] - 0s 8ms/step - loss: 1.7810 - accuracy: 0.3466 - val_loss: 1.6405 - val_accuracy: 0.4095\n",
            "Epoch 7/100\n",
            "27/27 [==============================] - 0s 8ms/step - loss: 1.7170 - accuracy: 0.3671 - val_loss: 1.5971 - val_accuracy: 0.4272\n",
            "Epoch 8/100\n",
            "27/27 [==============================] - 0s 8ms/step - loss: 1.7008 - accuracy: 0.3691 - val_loss: 1.5369 - val_accuracy: 0.4320\n",
            "Epoch 9/100\n",
            "27/27 [==============================] - 0s 7ms/step - loss: 1.6490 - accuracy: 0.3796 - val_loss: 1.5046 - val_accuracy: 0.4633\n",
            "Epoch 10/100\n",
            "27/27 [==============================] - 0s 8ms/step - loss: 1.6053 - accuracy: 0.3953 - val_loss: 1.4993 - val_accuracy: 0.4660\n",
            "Epoch 11/100\n",
            "27/27 [==============================] - 0s 7ms/step - loss: 1.6260 - accuracy: 0.3857 - val_loss: 1.4339 - val_accuracy: 0.4653\n",
            "Epoch 12/100\n",
            "27/27 [==============================] - 0s 8ms/step - loss: 1.5511 - accuracy: 0.4035 - val_loss: 1.4194 - val_accuracy: 0.4850\n",
            "Epoch 13/100\n",
            "27/27 [==============================] - 0s 8ms/step - loss: 1.5494 - accuracy: 0.4152 - val_loss: 1.4201 - val_accuracy: 0.4762\n",
            "Epoch 14/100\n",
            "27/27 [==============================] - 0s 8ms/step - loss: 1.5173 - accuracy: 0.4210 - val_loss: 1.3871 - val_accuracy: 0.4980\n",
            "Epoch 15/100\n",
            "27/27 [==============================] - 0s 7ms/step - loss: 1.5189 - accuracy: 0.4210 - val_loss: 1.3781 - val_accuracy: 0.5000\n",
            "Epoch 16/100\n",
            "27/27 [==============================] - 0s 7ms/step - loss: 1.4995 - accuracy: 0.4347 - val_loss: 1.3734 - val_accuracy: 0.4884\n",
            "Epoch 17/100\n",
            "27/27 [==============================] - 0s 7ms/step - loss: 1.4589 - accuracy: 0.4452 - val_loss: 1.3625 - val_accuracy: 0.4912\n",
            "Epoch 18/100\n",
            "27/27 [==============================] - 0s 8ms/step - loss: 1.4316 - accuracy: 0.4563 - val_loss: 1.3403 - val_accuracy: 0.4932\n",
            "Epoch 19/100\n",
            "27/27 [==============================] - 0s 8ms/step - loss: 1.4465 - accuracy: 0.4437 - val_loss: 1.3461 - val_accuracy: 0.4980\n",
            "Epoch 20/100\n",
            "27/27 [==============================] - 0s 7ms/step - loss: 1.4326 - accuracy: 0.4534 - val_loss: 1.3248 - val_accuracy: 0.5088\n",
            "Epoch 21/100\n",
            "27/27 [==============================] - 0s 7ms/step - loss: 1.4186 - accuracy: 0.4528 - val_loss: 1.3209 - val_accuracy: 0.5054\n",
            "Epoch 22/100\n",
            "27/27 [==============================] - 0s 7ms/step - loss: 1.4096 - accuracy: 0.4685 - val_loss: 1.3024 - val_accuracy: 0.5190\n",
            "Epoch 23/100\n",
            "27/27 [==============================] - 0s 8ms/step - loss: 1.4004 - accuracy: 0.4624 - val_loss: 1.3179 - val_accuracy: 0.5116\n",
            "Epoch 24/100\n",
            "27/27 [==============================] - 0s 8ms/step - loss: 1.3906 - accuracy: 0.4668 - val_loss: 1.3098 - val_accuracy: 0.5020\n",
            "Epoch 25/100\n",
            "27/27 [==============================] - 0s 7ms/step - loss: 1.3901 - accuracy: 0.4720 - val_loss: 1.3070 - val_accuracy: 0.5041\n",
            "Epoch 26/100\n",
            "27/27 [==============================] - 0s 8ms/step - loss: 1.3815 - accuracy: 0.4793 - val_loss: 1.3003 - val_accuracy: 0.5116\n",
            "Epoch 27/100\n",
            "27/27 [==============================] - 0s 8ms/step - loss: 1.3798 - accuracy: 0.4723 - val_loss: 1.2922 - val_accuracy: 0.5102\n",
            "Epoch 28/100\n",
            "27/27 [==============================] - 0s 7ms/step - loss: 1.3609 - accuracy: 0.4732 - val_loss: 1.2991 - val_accuracy: 0.5027\n",
            "Epoch 29/100\n",
            "27/27 [==============================] - 0s 8ms/step - loss: 1.3508 - accuracy: 0.4918 - val_loss: 1.3033 - val_accuracy: 0.4925\n",
            "Epoch 30/100\n",
            "27/27 [==============================] - 0s 8ms/step - loss: 1.3503 - accuracy: 0.4843 - val_loss: 1.2890 - val_accuracy: 0.4993\n",
            "Epoch 31/100\n",
            "27/27 [==============================] - 0s 8ms/step - loss: 1.3275 - accuracy: 0.4892 - val_loss: 1.2763 - val_accuracy: 0.5027\n",
            "Epoch 32/100\n",
            "27/27 [==============================] - 0s 8ms/step - loss: 1.3285 - accuracy: 0.4965 - val_loss: 1.2828 - val_accuracy: 0.5122\n",
            "Epoch 33/100\n",
            "27/27 [==============================] - 0s 7ms/step - loss: 1.3325 - accuracy: 0.4898 - val_loss: 1.2742 - val_accuracy: 0.5122\n",
            "Epoch 34/100\n",
            "27/27 [==============================] - 0s 7ms/step - loss: 1.3002 - accuracy: 0.5020 - val_loss: 1.2787 - val_accuracy: 0.5197\n",
            "Epoch 35/100\n",
            "27/27 [==============================] - 0s 8ms/step - loss: 1.3095 - accuracy: 0.5032 - val_loss: 1.2840 - val_accuracy: 0.5136\n",
            "Epoch 36/100\n",
            "27/27 [==============================] - 0s 8ms/step - loss: 1.2737 - accuracy: 0.5105 - val_loss: 1.2617 - val_accuracy: 0.5150\n",
            "Epoch 37/100\n",
            "27/27 [==============================] - 0s 7ms/step - loss: 1.2843 - accuracy: 0.5015 - val_loss: 1.2771 - val_accuracy: 0.5109\n",
            "Epoch 38/100\n",
            "27/27 [==============================] - 0s 7ms/step - loss: 1.2760 - accuracy: 0.5128 - val_loss: 1.2603 - val_accuracy: 0.5129\n",
            "Epoch 39/100\n",
            "27/27 [==============================] - 0s 8ms/step - loss: 1.2900 - accuracy: 0.5114 - val_loss: 1.2581 - val_accuracy: 0.5224\n",
            "Epoch 40/100\n",
            "27/27 [==============================] - 0s 7ms/step - loss: 1.2788 - accuracy: 0.5122 - val_loss: 1.2559 - val_accuracy: 0.5156\n"
          ]
        }
      ]
    },
    {
      "cell_type": "code",
      "metadata": {
        "colab": {
          "base_uri": "https://localhost:8080/"
        },
        "id": "_7kMZgAtcosz",
        "outputId": "4c512d74-a2a9-45a9-83d4-25c44850b993"
      },
      "source": [
        "from sklearn.model_selection import GridSearchCV\n",
        "from sklearn.linear_model import LogisticRegression\n",
        "from sklearn.metrics import accuracy_score\n",
        "import warnings\n",
        "\n",
        "warnings.filterwarnings('ignore')\n",
        "x_train = x_train_mfcc\n",
        "\n",
        "grid={\"C\":[0.001, 0.01, 0.1, 1, 10], 'solver':['lbfgs', 'sag', 'newton-cg']} #only l2 supported\n",
        "\n",
        "logreg = LogisticRegression(multi_class='multinomial')\n",
        "gcv=GridSearchCV(logreg,grid,cv=5,scoring='accuracy')\n",
        "gcv.fit(x_train, np.argmax(y_train, axis=1))\n",
        "\n",
        "print(\"tuned hpyerparameters :(best parameters) \",gcv.best_params_)\n",
        "print(\"accuracy :\",gcv.best_score_)"
      ],
      "execution_count": null,
      "outputs": [
        {
          "output_type": "stream",
          "name": "stdout",
          "text": [
            "tuned hpyerparameters :(best parameters)  {'C': 0.01, 'solver': 'newton-cg'}\n",
            "accuracy : 0.5244897959183674\n"
          ]
        }
      ]
    },
    {
      "cell_type": "code",
      "metadata": {
        "colab": {
          "base_uri": "https://localhost:8080/"
        },
        "id": "idOs-G1znkDo",
        "outputId": "25ef6290-cab5-4c07-eb22-105106955a22"
      },
      "source": [
        "from sklearn.linear_model import LogisticRegression\n",
        "from sklearn.metrics import accuracy_score\n",
        "import warnings\n",
        "\n",
        "warnings.filterwarnings('ignore')\n",
        "x_train = x_train_mfcc\n",
        "x_test = x_test_mfcc\n",
        "\n",
        "model = LogisticRegression(multi_class='multinomial', C=0.01, solver='newton-cg')\n",
        "\n",
        "model.fit(x_train, np.argmax(y_train, axis=1))\n",
        "y_test_pred = model.predict(x_test)\n",
        "print(\"test accuracy : \", accuracy_score(np.argmax(y_test, axis=1), y_test_pred))"
      ],
      "execution_count": null,
      "outputs": [
        {
          "metadata": {
            "tags": null
          },
          "name": "stdout",
          "output_type": "stream",
          "text": [
            "test accuracy :  0.5435374149659864\n"
          ]
        }
      ]
    },
    {
      "cell_type": "code",
      "metadata": {
        "colab": {
          "base_uri": "https://localhost:8080/"
        },
        "id": "HXmQIlw8gxgr",
        "outputId": "cadd2900-60ab-4f82-ebb7-5242a6f3fe4f"
      },
      "source": [
        "from sklearn.model_selection import GridSearchCV\n",
        "from sklearn.neighbors import KNeighborsClassifier\n",
        "from sklearn.metrics import accuracy_score\n",
        "import warnings\n",
        "\n",
        "warnings.filterwarnings('ignore')\n",
        "x_train = x_train_mfcc\n",
        "\n",
        "grid={\"leaf_size\":range(1,10), \"p\":[1,2]}\n",
        "knn = KNeighborsClassifier(n_neighbors=genre_count)\n",
        "gcv=GridSearchCV(knn,grid,cv=5,scoring='accuracy')\n",
        "gcv.fit(x_train, np.argmax(y_train, axis=1))\n",
        "\n",
        "print(\"tuned hpyerparameters :(best parameters) \",gcv.best_params_)\n",
        "print(\"accuracy :\",gcv.best_score_)"
      ],
      "execution_count": null,
      "outputs": [
        {
          "output_type": "stream",
          "name": "stdout",
          "text": [
            "tuned hpyerparameters :(best parameters)  {'leaf_size': 1, 'p': 1}\n",
            "accuracy : 0.4568513119533528\n"
          ]
        }
      ]
    },
    {
      "cell_type": "code",
      "metadata": {
        "colab": {
          "base_uri": "https://localhost:8080/"
        },
        "id": "kyAmEWp8oUgS",
        "outputId": "9e570644-38f6-4a6b-c1a2-2639d6d75cdc"
      },
      "source": [
        "from sklearn.neighbors import KNeighborsClassifier\n",
        "from sklearn.metrics import accuracy_score\n",
        "import warnings\n",
        "\n",
        "warnings.filterwarnings('ignore')\n",
        "x_train = x_train_mfcc\n",
        "\n",
        "model = KNeighborsClassifier(n_neighbors=genre_count, leaf_size=1, p=1)\n",
        "\n",
        "model.fit(x_train, np.argmax(y_train, axis=1))\n",
        "y_test_pred = model.predict(x_test)\n",
        "print(\"test accuracy : \", accuracy_score(np.argmax(y_test, axis=1), y_test_pred))"
      ],
      "execution_count": null,
      "outputs": [
        {
          "output_type": "stream",
          "name": "stdout",
          "text": [
            "test accuracy :  0.46802721088435373\n"
          ]
        }
      ]
    },
    {
      "cell_type": "code",
      "metadata": {
        "id": "eSgPSWkmigvE"
      },
      "source": [
        "from sklearn.model_selection import GridSearchCV\n",
        "from sklearn.svm import SVC\n",
        "from sklearn.metrics import accuracy_score\n",
        "import warnings\n",
        "\n",
        "warnings.filterwarnings('ignore')\n",
        "x_train = x_train_mfcc\n",
        "\n",
        "grid={\"kernel\":['linear', 'poly', 'rbf'], \"C\":[0.001, 0.1, 1, 10, 100, 1000], 'gamma': [0.001, 0.01, 0.1, 1]}\n",
        "#grid={\"C\":[0.001, 0.1, 1, 10, 100, 1000]}\n",
        "#grid={'gamma': [0.001, 0.01, 0.1, 1]}\n",
        "svn = SVC()\n",
        "gcv=GridSearchCV(svn,grid,cv=5,scoring='accuracy')\n",
        "gcv.fit(x_train, np.argmax(y_train, axis=1))\n",
        "\n",
        "print(\"tuned hpyerparameters :(best parameters) \",gcv.best_params_)\n",
        "print(\"accuracy :\",gcv.best_score_)"
      ],
      "execution_count": null,
      "outputs": []
    },
    {
      "cell_type": "code",
      "metadata": {
        "colab": {
          "base_uri": "https://localhost:8080/"
        },
        "id": "i2MZk7W5okUz",
        "outputId": "28cd7a7c-e4e8-4d4e-aea7-002026d270ae"
      },
      "source": [
        "from sklearn.svm import SVC\n",
        "from sklearn.metrics import accuracy_score\n",
        "import warnings\n",
        "\n",
        "warnings.filterwarnings('ignore')\n",
        "x_train = x_train_mfcc\n",
        "\n",
        "model = SVC(kernel='rbf', C=10, gamma=.0001)\n",
        "\n",
        "model.fit(np.mean(x_train, axis=1), np.argmax(y_train, axis=1))\n",
        "y_test_pred = model.predict(np.mean(x_test, axis=1))\n",
        "print(\"test accuracy : \", accuracy_score(np.argmax(y_test, axis=1), y_test_pred))"
      ],
      "execution_count": null,
      "outputs": [
        {
          "output_type": "stream",
          "name": "stdout",
          "text": [
            "test accuracy :  0.5476190476190477\n"
          ]
        }
      ]
    },
    {
      "cell_type": "code",
      "metadata": {
        "colab": {
          "base_uri": "https://localhost:8080/",
          "height": 265
        },
        "id": "NO2qg9BDkB32",
        "outputId": "08336795-9e89-43c0-83ab-a6334916f3be"
      },
      "source": [
        "plt.plot(history_mfcc.history['accuracy'], label='train')\n",
        "plt.plot(history_mfcc.history['val_accuracy'], label='test')\n",
        "plt.legend()\n",
        "plt.show()"
      ],
      "execution_count": null,
      "outputs": [
        {
          "output_type": "display_data",
          "data": {
            "image/png": "[encoded data removed]",
            "text/plain": [
              "<Figure size 432x288 with 1 Axes>"
            ]
          },
          "metadata": {
            "needs_background": "light"
          }
        }
      ]
    },
    {
      "cell_type": "code",
      "metadata": {
        "colab": {
          "base_uri": "https://localhost:8080/",
          "height": 513
        },
        "id": "ZIlbrW-JfMHB",
        "outputId": "f5de22b2-eeef-41f7-cf72-e648655c1c79"
      },
      "source": [
        "from sklearn.metrics import confusion_matrix\n",
        "y_pred = model_mfcc.predict(x_test_mfcc)\n",
        "cm = confusion_matrix(np.argmax(y_test, axis=1), np.argmax(y_pred, axis=1))\n",
        "cm_df = pd.DataFrame(cm*genre_count/cm.sum(), index = genre_labels, columns = genre_labels)\n",
        "\n",
        "#Plotting the confusion matrix\n",
        "plt.figure(figsize=(16,8))\n",
        "sns.heatmap(cm_df, annot=True)\n",
        "plt.title('Confusion Matrix: Timbre')\n",
        "plt.ylabel('Actal Values')\n",
        "plt.xlabel('Predicted Values')\n",
        "plt.show()"
      ],
      "execution_count": null,
      "outputs": [
        {
          "output_type": "display_data",
          "data": {
            "image/png": "[encoded data removed]",
            "text/plain": [
              "<Figure size 1152x576 with 2 Axes>"
            ]
          },
          "metadata": {
            "needs_background": "light"
          }
        }
      ]
    },
    {
      "cell_type": "code",
      "metadata": {
        "colab": {
          "base_uri": "https://localhost:8080/"
        },
        "id": "BwIBnvSufMLm",
        "outputId": "a6f67a1c-5fce-4858-80e7-509219f71e45"
      },
      "source": [
        "from sklearn.metrics import classification_report\n",
        "print('\\nClassification Report\\n')\n",
        "print(classification_report(np.argmax(y_test, axis=1), np.argmax(y_pred, axis=1), target_names=genre_labels))"
      ],
      "execution_count": null,
      "outputs": [
        {
          "output_type": "stream",
          "name": "stdout",
          "text": [
            "\n",
            "Classification Report\n",
            "\n",
            "              precision    recall  f1-score   support\n",
            "\n",
            "  Electronic       0.61      0.52      0.56       209\n",
            "        Rock       0.38      0.29      0.33       227\n",
            "         Pop       0.33      0.26      0.29       195\n",
            "       Metal       0.74      0.73      0.74       211\n",
            "         Rap       0.57      0.70      0.63       219\n",
            "         RnB       0.40      0.39      0.40       200\n",
            "     Country       0.50      0.71      0.59       209\n",
            "\n",
            "    accuracy                           0.52      1470\n",
            "   macro avg       0.50      0.51      0.50      1470\n",
            "weighted avg       0.51      0.52      0.51      1470\n",
            "\n"
          ]
        }
      ]
    },
    {
      "cell_type": "code",
      "metadata": {
        "id": "XhtmO1nPieSX"
      },
      "source": [
        "seg_count = 1024\n",
        "chroma_count = 12\n",
        "\n",
        "msdi_chroma_values = np.zeros((track_count, chroma_count), dtype=np.float32)\n",
        "#msdi_chroma_values = np.zeros((track_count, seg_count, chroma_count), dtype=np.float32)\n",
        "\n",
        "for i, track_id in enumerate(track_genre_df.index.values):\n",
        "    filepath = 'msd_data/' + track_id[2] + '/' + track_id[3] + '/' + track_id[4] + '/' + track_id + '.h5'\n",
        "    try:\n",
        "      hfile = h5py.File(filepath, 'r')\n",
        "      track_chroma_tmp = np.array(hfile['analysis']['segments_pitches'])\n",
        "      '''track_seg_counts.append(track_chroma_tmp.shape[0])\n",
        "      track_seg_count = min(track_chroma_tmp.shape[0], seg_count)\n",
        "      fill_count = 0\n",
        "      while fill_count < seg_count:\n",
        "        fill_count_tmp = min(track_seg_count, (seg_count-fill_count))\n",
        "        msdi_chroma_values[i][fill_count:fill_count+fill_count_tmp] = track_mfcc_tmp[:fill_count_tmp]\n",
        "        fill_count = fill_count + fill_count_tmp\n",
        "      '''\n",
        "      msdi_chroma_values[i] = np.mean(track_chroma_tmp, axis=0)\n",
        "      hfile.close()\n",
        "    except (RuntimeError, TypeError, NameError, OSError):\n",
        "      print('failed for file: ', filepath)"
      ],
      "execution_count": null,
      "outputs": []
    },
    {
      "cell_type": "code",
      "metadata": {
        "id": "99i9VD_Mieex"
      },
      "source": [
        "x_train_chroma, x_test_chroma = train_test_split(msdi_chroma_values, test_size=modelling_test_size, random_state=1)\n",
        "msdi_chroma_values = None"
      ],
      "execution_count": null,
      "outputs": []
    },
    {
      "cell_type": "code",
      "source": [
        "from sklearn.model_selection import GridSearchCV\n",
        "from sklearn.linear_model import LogisticRegression\n",
        "from sklearn.metrics import accuracy_score\n",
        "import warnings\n",
        "\n",
        "warnings.filterwarnings('ignore')\n",
        "x_train = x_train_chroma\n",
        "\n",
        "grid={\"C\":[0.001, 0.01, 0.1, 1, 10], 'solver':['lbfgs', 'sag', 'newton-cg']} #only l2 supported\n",
        "\n",
        "logreg = LogisticRegression(multi_class='multinomial')\n",
        "gcv=GridSearchCV(logreg,grid,cv=5,scoring='accuracy')\n",
        "gcv.fit(x_train, np.argmax(y_train, axis=1))\n",
        "\n",
        "print(\"tuned hpyerparameters :(best parameters) \",gcv.best_params_)\n",
        "print(\"accuracy :\",gcv.best_score_)"
      ],
      "metadata": {
        "colab": {
          "base_uri": "https://localhost:8080/"
        },
        "id": "92ZIY80tlVLW",
        "outputId": "c595c227-441b-40f0-af93-1d4aad9bd47c"
      },
      "execution_count": null,
      "outputs": [
        {
          "output_type": "stream",
          "name": "stdout",
          "text": [
            "tuned hpyerparameters :(best parameters)  {'C': 10, 'solver': 'lbfgs'}\n",
            "accuracy : 0.30466472303207\n"
          ]
        }
      ]
    },
    {
      "cell_type": "code",
      "metadata": {
        "colab": {
          "base_uri": "https://localhost:8080/"
        },
        "id": "nCx_5hXz7XBb",
        "outputId": "cd74cdae-1b56-4a46-a7c4-2e2a9544edf0"
      },
      "source": [
        "from sklearn.linear_model import LogisticRegression\n",
        "from sklearn.metrics import accuracy_score\n",
        "import warnings\n",
        "\n",
        "warnings.filterwarnings('ignore')\n",
        "x_train = x_train_chroma\n",
        "x_test = x_test_chroma\n",
        "\n",
        "model = LogisticRegression(multi_class='multinomial', C=10, solver='lbfgs')\n",
        "\n",
        "model.fit(x_train, np.argmax(y_train, axis=1))\n",
        "y_test_pred = model.predict(x_test)\n",
        "print(\"test accuracy : \", accuracy_score(np.argmax(y_test, axis=1), y_test_pred))"
      ],
      "execution_count": null,
      "outputs": [
        {
          "output_type": "stream",
          "name": "stdout",
          "text": [
            "test accuracy :  0.3020408163265306\n"
          ]
        }
      ]
    },
    {
      "cell_type": "code",
      "metadata": {
        "colab": {
          "base_uri": "https://localhost:8080/"
        },
        "id": "k32FYwch7XKY",
        "outputId": "859636d9-0896-4a0a-930d-61405c307be6"
      },
      "source": [
        "from sklearn.model_selection import GridSearchCV\n",
        "from sklearn.neighbors import KNeighborsClassifier\n",
        "from sklearn.metrics import accuracy_score\n",
        "import warnings\n",
        "\n",
        "warnings.filterwarnings('ignore')\n",
        "x_train = x_train_chroma\n",
        "\n",
        "grid={\"leaf_size\":range(1,10), \"p\":[1,2]}\n",
        "knn = KNeighborsClassifier(n_neighbors=genre_count)\n",
        "gcv=GridSearchCV(knn,grid,cv=5,scoring='accuracy')\n",
        "gcv.fit(x_train, np.argmax(y_train, axis=1))\n",
        "\n",
        "print(\"tuned hpyerparameters :(best parameters) \",gcv.best_params_)\n",
        "print(\"accuracy :\",gcv.best_score_)"
      ],
      "execution_count": null,
      "outputs": [
        {
          "output_type": "stream",
          "name": "stdout",
          "text": [
            "tuned hpyerparameters :(best parameters)  {'leaf_size': 1, 'p': 2}\n",
            "accuracy : 0.3749271137026239\n"
          ]
        }
      ]
    },
    {
      "cell_type": "code",
      "metadata": {
        "colab": {
          "base_uri": "https://localhost:8080/"
        },
        "id": "63HhFKgJ7XQm",
        "outputId": "ae0d3fbf-cf25-423a-adc2-b2dfa9389c44"
      },
      "source": [
        "from sklearn.neighbors import KNeighborsClassifier\n",
        "from sklearn.metrics import accuracy_score\n",
        "import warnings\n",
        "\n",
        "warnings.filterwarnings('ignore')\n",
        "x_train = x_train_chroma\n",
        "x_test = x_test_chroma\n",
        "\n",
        "model = KNeighborsClassifier(n_neighbors=genre_count, leaf_size=1, p=2)\n",
        "\n",
        "model.fit(x_train, np.argmax(y_train, axis=1))\n",
        "y_test_pred = model.predict(x_test)\n",
        "print(\"test accuracy : \", accuracy_score(np.argmax(y_test, axis=1), y_test_pred))"
      ],
      "execution_count": null,
      "outputs": [
        {
          "output_type": "stream",
          "name": "stdout",
          "text": [
            "test accuracy :  0.3523809523809524\n"
          ]
        }
      ]
    },
    {
      "cell_type": "code",
      "metadata": {
        "id": "hjPdxPJS7XZO",
        "colab": {
          "base_uri": "https://localhost:8080/"
        },
        "outputId": "f25fad79-1999-4b9d-f534-0eded53d3fbb"
      },
      "source": [
        "from sklearn.model_selection import GridSearchCV\n",
        "from sklearn.svm import SVC\n",
        "from sklearn.metrics import accuracy_score\n",
        "import warnings\n",
        "\n",
        "warnings.filterwarnings('ignore')\n",
        "x_train = x_train_chroma\n",
        "\n",
        "grid={\"kernel\":['linear', 'poly', 'rbf'], \"C\":[0.001, 0.1, 1, 10, 100, 1000], 'gamma': [0.001, 0.01, 0.1, 1]}\n",
        "#grid={\"C\":[0.001, 0.1, 1, 10, 100, 1000]}\n",
        "#grid={'gamma': [0.001, 0.01, 0.1, 1]}\n",
        "svn = SVC()\n",
        "gcv=GridSearchCV(svn,grid,cv=5,scoring='accuracy')\n",
        "gcv.fit(x_train, np.argmax(y_train, axis=1))\n",
        "\n",
        "print(\"tuned hpyerparameters :(best parameters) \",gcv.best_params_)\n",
        "print(\"accuracy :\",gcv.best_score_)"
      ],
      "execution_count": null,
      "outputs": [
        {
          "output_type": "stream",
          "name": "stdout",
          "text": [
            "tuned hpyerparameters :(best parameters)  {'C': 100, 'gamma': 1, 'kernel': 'rbf'}\n",
            "accuracy : 0.39883381924198247\n"
          ]
        }
      ]
    },
    {
      "cell_type": "code",
      "metadata": {
        "colab": {
          "base_uri": "https://localhost:8080/"
        },
        "id": "8_Xr21Ce7XiH",
        "outputId": "9cf4eaf0-a89c-4459-9eab-b695f8fb8eb3"
      },
      "source": [
        "from sklearn.svm import SVC\n",
        "from sklearn.metrics import accuracy_score\n",
        "import warnings\n",
        "\n",
        "warnings.filterwarnings('ignore')\n",
        "x_train = x_train_chroma\n",
        "x_test = x_test_chroma\n",
        "\n",
        "model = SVC(kernel='rbf', C=100, gamma=1)\n",
        "\n",
        "model.fit(x_train, np.argmax(y_train, axis=1))\n",
        "y_test_pred = model.predict(x_test)\n",
        "print(\"test accuracy : \", accuracy_score(np.argmax(y_test, axis=1), y_test_pred))"
      ],
      "execution_count": null,
      "outputs": [
        {
          "output_type": "stream",
          "name": "stdout",
          "text": [
            "test accuracy :  0.39387755102040817\n"
          ]
        }
      ]
    },
    {
      "cell_type": "code",
      "metadata": {
        "id": "zWkLImwZa4tZ"
      },
      "source": [
        "def get_chroma_model(input_shape, num_classes):\n",
        "\n",
        "  model = Sequential()\n",
        "  model.add(Dense(256, input_shape=input_shape, activation='relu', kernel_initializer='he_uniform'))\n",
        "  #model.add(BatchNormalization())\n",
        "\n",
        "  model.add(Dense(512, activation='relu', kernel_initializer='he_uniform'))\n",
        "  model.add(Dropout(0.25))\n",
        "\n",
        "  model.add(Dense(512, activation='relu', kernel_initializer='he_uniform'))\n",
        "  model.add(Dropout(0.5))\n",
        "\n",
        "  model.add(Dense(num_classes, activation='softmax', kernel_initializer='he_uniform'))\n",
        "  #opt = tf.keras.optimizers.Adam(lr=0.0001)\n",
        "  model.compile(loss=keras.losses.categorical_crossentropy,\n",
        "              #optimizer=opt,\n",
        "              optimizer='adam',\n",
        "              metrics=['accuracy'])\n",
        "  #model.summary\n",
        "  return model"
      ],
      "execution_count": null,
      "outputs": []
    },
    {
      "cell_type": "code",
      "metadata": {
        "colab": {
          "base_uri": "https://localhost:8080/"
        },
        "id": "GSh1Yh25QilV",
        "outputId": "0ead9689-6b51-4ce0-9f15-ae5eb17abbd5"
      },
      "source": [
        "input_shape = (x_test.shape[1], )#(seg_count, chroma_count, 1, )\n",
        "model = get_chroma_model(input_shape, genre_count)\n",
        "x_train = x_train_chroma#.reshape(x_train_chroma.shape[0], seg_count, chroma_count, 1)\n",
        "x_test = x_test_chroma#.reshape(x_test_chroma.shape[0], seg_count, chroma_count, 1)\n",
        "\n",
        "callback = tf.keras.callbacks.EarlyStopping(monitor='loss', patience=3)\n",
        "history_chroma = model.fit(x_train, y_train, epochs=100, batch_size=256, callbacks=[callback], verbose=1, validation_data=(x_test, y_test))\n",
        "model_chroma = model"
      ],
      "execution_count": null,
      "outputs": [
        {
          "output_type": "stream",
          "name": "stdout",
          "text": [
            "Epoch 1/100\n",
            "14/14 [==============================] - 1s 24ms/step - loss: 2.0172 - accuracy: 0.1749 - val_loss: 1.8603 - val_accuracy: 0.2578\n",
            "Epoch 2/100\n",
            "14/14 [==============================] - 0s 9ms/step - loss: 1.8602 - accuracy: 0.2254 - val_loss: 1.7984 - val_accuracy: 0.2633\n",
            "Epoch 3/100\n",
            "14/14 [==============================] - 0s 10ms/step - loss: 1.8113 - accuracy: 0.2647 - val_loss: 1.7366 - val_accuracy: 0.3014\n",
            "Epoch 4/100\n",
            "14/14 [==============================] - 0s 9ms/step - loss: 1.7561 - accuracy: 0.2828 - val_loss: 1.7020 - val_accuracy: 0.3027\n",
            "Epoch 5/100\n",
            "14/14 [==============================] - 0s 9ms/step - loss: 1.7053 - accuracy: 0.2997 - val_loss: 1.6685 - val_accuracy: 0.3143\n",
            "Epoch 6/100\n",
            "14/14 [==============================] - 0s 9ms/step - loss: 1.6705 - accuracy: 0.3353 - val_loss: 1.6454 - val_accuracy: 0.3204\n",
            "Epoch 7/100\n",
            "14/14 [==============================] - 0s 9ms/step - loss: 1.6626 - accuracy: 0.3280 - val_loss: 1.6339 - val_accuracy: 0.3381\n",
            "Epoch 8/100\n",
            "14/14 [==============================] - 0s 9ms/step - loss: 1.6279 - accuracy: 0.3501 - val_loss: 1.6144 - val_accuracy: 0.3374\n",
            "Epoch 9/100\n",
            "14/14 [==============================] - 0s 10ms/step - loss: 1.6142 - accuracy: 0.3499 - val_loss: 1.6004 - val_accuracy: 0.3497\n",
            "Epoch 10/100\n",
            "14/14 [==============================] - 0s 9ms/step - loss: 1.6003 - accuracy: 0.3487 - val_loss: 1.5826 - val_accuracy: 0.3510\n",
            "Epoch 11/100\n",
            "14/14 [==============================] - 0s 9ms/step - loss: 1.5847 - accuracy: 0.3708 - val_loss: 1.5724 - val_accuracy: 0.3694\n",
            "Epoch 12/100\n",
            "14/14 [==============================] - 0s 12ms/step - loss: 1.5791 - accuracy: 0.3758 - val_loss: 1.5740 - val_accuracy: 0.3612\n",
            "Epoch 13/100\n",
            "14/14 [==============================] - 0s 9ms/step - loss: 1.5758 - accuracy: 0.3729 - val_loss: 1.5759 - val_accuracy: 0.3612\n",
            "Epoch 14/100\n",
            "14/14 [==============================] - 0s 9ms/step - loss: 1.5617 - accuracy: 0.3810 - val_loss: 1.5664 - val_accuracy: 0.3517\n",
            "Epoch 15/100\n",
            "14/14 [==============================] - 0s 9ms/step - loss: 1.5421 - accuracy: 0.3828 - val_loss: 1.5590 - val_accuracy: 0.3667\n",
            "Epoch 16/100\n",
            "14/14 [==============================] - 0s 12ms/step - loss: 1.5375 - accuracy: 0.3863 - val_loss: 1.5684 - val_accuracy: 0.3639\n",
            "Epoch 17/100\n",
            "14/14 [==============================] - 0s 9ms/step - loss: 1.5301 - accuracy: 0.3988 - val_loss: 1.5652 - val_accuracy: 0.3639\n",
            "Epoch 18/100\n",
            "14/14 [==============================] - 0s 9ms/step - loss: 1.5296 - accuracy: 0.3837 - val_loss: 1.5566 - val_accuracy: 0.3667\n",
            "Epoch 19/100\n",
            "14/14 [==============================] - 0s 9ms/step - loss: 1.5131 - accuracy: 0.4055 - val_loss: 1.5534 - val_accuracy: 0.3667\n",
            "Epoch 20/100\n",
            "14/14 [==============================] - 0s 10ms/step - loss: 1.5118 - accuracy: 0.4003 - val_loss: 1.5562 - val_accuracy: 0.3721\n",
            "Epoch 21/100\n",
            "14/14 [==============================] - 0s 9ms/step - loss: 1.4992 - accuracy: 0.4064 - val_loss: 1.5441 - val_accuracy: 0.3755\n",
            "Epoch 22/100\n",
            "14/14 [==============================] - 0s 12ms/step - loss: 1.4961 - accuracy: 0.4038 - val_loss: 1.5572 - val_accuracy: 0.3714\n",
            "Epoch 23/100\n",
            "14/14 [==============================] - 0s 10ms/step - loss: 1.4864 - accuracy: 0.4029 - val_loss: 1.5453 - val_accuracy: 0.3741\n",
            "Epoch 24/100\n",
            "14/14 [==============================] - 0s 9ms/step - loss: 1.4758 - accuracy: 0.4190 - val_loss: 1.5430 - val_accuracy: 0.3782\n",
            "Epoch 25/100\n",
            "14/14 [==============================] - 0s 13ms/step - loss: 1.4584 - accuracy: 0.4239 - val_loss: 1.5516 - val_accuracy: 0.3789\n",
            "Epoch 26/100\n",
            "14/14 [==============================] - 0s 9ms/step - loss: 1.4650 - accuracy: 0.4219 - val_loss: 1.5430 - val_accuracy: 0.3755\n",
            "Epoch 27/100\n",
            "14/14 [==============================] - 0s 9ms/step - loss: 1.4562 - accuracy: 0.4230 - val_loss: 1.5336 - val_accuracy: 0.3741\n",
            "Epoch 28/100\n",
            "14/14 [==============================] - 0s 9ms/step - loss: 1.4467 - accuracy: 0.4294 - val_loss: 1.5327 - val_accuracy: 0.3810\n",
            "Epoch 29/100\n",
            "14/14 [==============================] - 0s 10ms/step - loss: 1.4330 - accuracy: 0.4405 - val_loss: 1.5309 - val_accuracy: 0.3898\n",
            "Epoch 30/100\n",
            "14/14 [==============================] - 0s 9ms/step - loss: 1.4274 - accuracy: 0.4461 - val_loss: 1.5404 - val_accuracy: 0.3980\n",
            "Epoch 31/100\n",
            "14/14 [==============================] - 0s 10ms/step - loss: 1.4354 - accuracy: 0.4364 - val_loss: 1.5388 - val_accuracy: 0.3884\n",
            "Epoch 32/100\n",
            "14/14 [==============================] - 0s 12ms/step - loss: 1.4156 - accuracy: 0.4405 - val_loss: 1.5370 - val_accuracy: 0.3966\n",
            "Epoch 33/100\n",
            "14/14 [==============================] - 0s 10ms/step - loss: 1.4116 - accuracy: 0.4359 - val_loss: 1.5309 - val_accuracy: 0.3871\n",
            "Epoch 34/100\n",
            "14/14 [==============================] - 0s 9ms/step - loss: 1.4092 - accuracy: 0.4580 - val_loss: 1.5303 - val_accuracy: 0.3905\n",
            "Epoch 35/100\n",
            "14/14 [==============================] - 0s 9ms/step - loss: 1.4008 - accuracy: 0.4548 - val_loss: 1.5294 - val_accuracy: 0.3891\n",
            "Epoch 36/100\n",
            "14/14 [==============================] - 0s 9ms/step - loss: 1.3970 - accuracy: 0.4499 - val_loss: 1.5402 - val_accuracy: 0.3959\n",
            "Epoch 37/100\n",
            "14/14 [==============================] - 0s 13ms/step - loss: 1.3759 - accuracy: 0.4656 - val_loss: 1.5330 - val_accuracy: 0.3837\n",
            "Epoch 38/100\n",
            "14/14 [==============================] - 0s 9ms/step - loss: 1.3647 - accuracy: 0.4673 - val_loss: 1.5326 - val_accuracy: 0.3966\n",
            "Epoch 39/100\n",
            "14/14 [==============================] - 0s 10ms/step - loss: 1.3594 - accuracy: 0.4703 - val_loss: 1.5655 - val_accuracy: 0.3884\n",
            "Epoch 40/100\n",
            "14/14 [==============================] - 0s 9ms/step - loss: 1.3553 - accuracy: 0.4837 - val_loss: 1.5420 - val_accuracy: 0.4000\n",
            "Epoch 41/100\n",
            "14/14 [==============================] - 0s 9ms/step - loss: 1.3655 - accuracy: 0.4735 - val_loss: 1.5480 - val_accuracy: 0.3905\n",
            "Epoch 42/100\n",
            "14/14 [==============================] - 0s 9ms/step - loss: 1.3397 - accuracy: 0.4886 - val_loss: 1.5333 - val_accuracy: 0.4041\n",
            "Epoch 43/100\n",
            "14/14 [==============================] - 0s 9ms/step - loss: 1.3378 - accuracy: 0.4875 - val_loss: 1.5451 - val_accuracy: 0.4000\n",
            "Epoch 44/100\n",
            "14/14 [==============================] - 0s 10ms/step - loss: 1.3254 - accuracy: 0.4843 - val_loss: 1.5409 - val_accuracy: 0.4095\n",
            "Epoch 45/100\n",
            "14/14 [==============================] - 0s 9ms/step - loss: 1.3199 - accuracy: 0.4974 - val_loss: 1.5542 - val_accuracy: 0.4014\n",
            "Epoch 46/100\n",
            "14/14 [==============================] - 0s 9ms/step - loss: 1.3171 - accuracy: 0.5020 - val_loss: 1.5450 - val_accuracy: 0.4095\n",
            "Epoch 47/100\n",
            "14/14 [==============================] - 0s 10ms/step - loss: 1.2994 - accuracy: 0.4913 - val_loss: 1.5524 - val_accuracy: 0.4014\n",
            "Epoch 48/100\n",
            "14/14 [==============================] - 0s 10ms/step - loss: 1.3023 - accuracy: 0.5041 - val_loss: 1.5471 - val_accuracy: 0.4000\n",
            "Epoch 49/100\n",
            "14/14 [==============================] - 0s 10ms/step - loss: 1.3001 - accuracy: 0.5032 - val_loss: 1.5336 - val_accuracy: 0.4122\n",
            "Epoch 50/100\n",
            "14/14 [==============================] - 0s 9ms/step - loss: 1.2766 - accuracy: 0.5157 - val_loss: 1.5501 - val_accuracy: 0.4102\n",
            "Epoch 51/100\n",
            "14/14 [==============================] - 0s 10ms/step - loss: 1.2775 - accuracy: 0.5134 - val_loss: 1.5500 - val_accuracy: 0.4034\n",
            "Epoch 52/100\n",
            "14/14 [==============================] - 0s 9ms/step - loss: 1.2854 - accuracy: 0.5114 - val_loss: 1.5599 - val_accuracy: 0.4034\n",
            "Epoch 53/100\n",
            "14/14 [==============================] - 0s 13ms/step - loss: 1.2738 - accuracy: 0.5207 - val_loss: 1.5518 - val_accuracy: 0.4054\n",
            "Epoch 54/100\n",
            "14/14 [==============================] - 0s 10ms/step - loss: 1.2539 - accuracy: 0.5257 - val_loss: 1.5573 - val_accuracy: 0.4014\n",
            "Epoch 55/100\n",
            "14/14 [==============================] - 0s 10ms/step - loss: 1.2504 - accuracy: 0.5201 - val_loss: 1.5585 - val_accuracy: 0.4061\n",
            "Epoch 56/100\n",
            "14/14 [==============================] - 0s 9ms/step - loss: 1.2382 - accuracy: 0.5324 - val_loss: 1.5738 - val_accuracy: 0.3959\n",
            "Epoch 57/100\n",
            "14/14 [==============================] - 0s 9ms/step - loss: 1.2498 - accuracy: 0.5172 - val_loss: 1.5466 - val_accuracy: 0.4095\n",
            "Epoch 58/100\n",
            "14/14 [==============================] - 0s 9ms/step - loss: 1.2357 - accuracy: 0.5327 - val_loss: 1.5640 - val_accuracy: 0.4116\n",
            "Epoch 59/100\n",
            "14/14 [==============================] - 0s 9ms/step - loss: 1.2071 - accuracy: 0.5455 - val_loss: 1.5720 - val_accuracy: 0.3966\n",
            "Epoch 60/100\n",
            "14/14 [==============================] - 0s 9ms/step - loss: 1.2091 - accuracy: 0.5356 - val_loss: 1.5687 - val_accuracy: 0.4156\n",
            "Epoch 61/100\n",
            "14/14 [==============================] - 0s 12ms/step - loss: 1.2087 - accuracy: 0.5452 - val_loss: 1.5633 - val_accuracy: 0.4041\n",
            "Epoch 62/100\n",
            "14/14 [==============================] - 0s 9ms/step - loss: 1.1996 - accuracy: 0.5431 - val_loss: 1.5685 - val_accuracy: 0.4027\n",
            "Epoch 63/100\n",
            "14/14 [==============================] - 0s 8ms/step - loss: 1.1973 - accuracy: 0.5420 - val_loss: 1.6014 - val_accuracy: 0.3898\n",
            "Epoch 64/100\n",
            "14/14 [==============================] - 0s 9ms/step - loss: 1.1919 - accuracy: 0.5510 - val_loss: 1.5856 - val_accuracy: 0.4068\n",
            "Epoch 65/100\n",
            "14/14 [==============================] - 0s 11ms/step - loss: 1.1773 - accuracy: 0.5574 - val_loss: 1.5816 - val_accuracy: 0.4041\n",
            "Epoch 66/100\n",
            "14/14 [==============================] - 0s 9ms/step - loss: 1.1906 - accuracy: 0.5598 - val_loss: 1.5863 - val_accuracy: 0.4041\n",
            "Epoch 67/100\n",
            "14/14 [==============================] - 0s 9ms/step - loss: 1.1656 - accuracy: 0.5606 - val_loss: 1.5961 - val_accuracy: 0.3973\n",
            "Epoch 68/100\n",
            "14/14 [==============================] - 0s 13ms/step - loss: 1.1793 - accuracy: 0.5612 - val_loss: 1.5980 - val_accuracy: 0.3952\n",
            "Epoch 69/100\n",
            "14/14 [==============================] - 0s 9ms/step - loss: 1.1599 - accuracy: 0.5566 - val_loss: 1.5997 - val_accuracy: 0.4048\n",
            "Epoch 70/100\n",
            "14/14 [==============================] - 0s 10ms/step - loss: 1.1485 - accuracy: 0.5752 - val_loss: 1.5972 - val_accuracy: 0.3891\n",
            "Epoch 71/100\n",
            "14/14 [==============================] - 0s 9ms/step - loss: 1.1415 - accuracy: 0.5638 - val_loss: 1.6001 - val_accuracy: 0.4109\n",
            "Epoch 72/100\n",
            "14/14 [==============================] - 0s 11ms/step - loss: 1.1329 - accuracy: 0.5676 - val_loss: 1.6198 - val_accuracy: 0.4048\n",
            "Epoch 73/100\n",
            "14/14 [==============================] - 0s 10ms/step - loss: 1.1156 - accuracy: 0.5854 - val_loss: 1.6212 - val_accuracy: 0.3973\n",
            "Epoch 74/100\n",
            "14/14 [==============================] - 0s 10ms/step - loss: 1.1481 - accuracy: 0.5612 - val_loss: 1.6080 - val_accuracy: 0.4020\n",
            "Epoch 75/100\n",
            "14/14 [==============================] - 0s 10ms/step - loss: 1.1408 - accuracy: 0.5735 - val_loss: 1.6420 - val_accuracy: 0.3952\n",
            "Epoch 76/100\n",
            "14/14 [==============================] - 0s 13ms/step - loss: 1.1020 - accuracy: 0.5816 - val_loss: 1.6637 - val_accuracy: 0.4068\n",
            "Epoch 77/100\n",
            "14/14 [==============================] - 0s 9ms/step - loss: 1.1086 - accuracy: 0.5880 - val_loss: 1.6310 - val_accuracy: 0.4102\n",
            "Epoch 78/100\n",
            "14/14 [==============================] - 0s 9ms/step - loss: 1.0879 - accuracy: 0.5872 - val_loss: 1.6635 - val_accuracy: 0.4020\n",
            "Epoch 79/100\n",
            "14/14 [==============================] - 0s 11ms/step - loss: 1.0942 - accuracy: 0.5880 - val_loss: 1.6377 - val_accuracy: 0.4075\n",
            "Epoch 80/100\n",
            "14/14 [==============================] - 0s 9ms/step - loss: 1.0861 - accuracy: 0.6000 - val_loss: 1.6428 - val_accuracy: 0.4088\n",
            "Epoch 81/100\n",
            "14/14 [==============================] - 0s 13ms/step - loss: 1.0693 - accuracy: 0.6009 - val_loss: 1.6531 - val_accuracy: 0.4034\n",
            "Epoch 82/100\n",
            "14/14 [==============================] - 0s 9ms/step - loss: 1.0642 - accuracy: 0.6090 - val_loss: 1.6681 - val_accuracy: 0.4075\n",
            "Epoch 83/100\n",
            "14/14 [==============================] - 0s 10ms/step - loss: 1.0526 - accuracy: 0.6006 - val_loss: 1.6590 - val_accuracy: 0.4054\n",
            "Epoch 84/100\n",
            "14/14 [==============================] - 0s 10ms/step - loss: 1.0663 - accuracy: 0.5924 - val_loss: 1.6622 - val_accuracy: 0.4000\n",
            "Epoch 85/100\n",
            "14/14 [==============================] - 0s 10ms/step - loss: 1.0583 - accuracy: 0.6006 - val_loss: 1.6826 - val_accuracy: 0.3959\n",
            "Epoch 86/100\n",
            "14/14 [==============================] - 0s 10ms/step - loss: 1.0429 - accuracy: 0.6093 - val_loss: 1.6718 - val_accuracy: 0.3918\n",
            "Epoch 87/100\n",
            "14/14 [==============================] - 0s 9ms/step - loss: 1.0397 - accuracy: 0.6067 - val_loss: 1.6860 - val_accuracy: 0.3884\n",
            "Epoch 88/100\n",
            "14/14 [==============================] - 0s 10ms/step - loss: 1.0388 - accuracy: 0.6061 - val_loss: 1.6894 - val_accuracy: 0.4014\n",
            "Epoch 89/100\n",
            "14/14 [==============================] - 0s 10ms/step - loss: 1.0443 - accuracy: 0.6122 - val_loss: 1.6815 - val_accuracy: 0.4000\n",
            "Epoch 90/100\n",
            "14/14 [==============================] - 0s 9ms/step - loss: 1.0153 - accuracy: 0.6157 - val_loss: 1.7080 - val_accuracy: 0.3925\n",
            "Epoch 91/100\n",
            "14/14 [==============================] - 0s 9ms/step - loss: 1.0154 - accuracy: 0.6251 - val_loss: 1.7098 - val_accuracy: 0.4014\n",
            "Epoch 92/100\n",
            "14/14 [==============================] - 0s 9ms/step - loss: 1.0059 - accuracy: 0.6248 - val_loss: 1.7032 - val_accuracy: 0.4007\n",
            "Epoch 93/100\n",
            "14/14 [==============================] - 0s 9ms/step - loss: 1.0005 - accuracy: 0.6265 - val_loss: 1.7264 - val_accuracy: 0.3925\n",
            "Epoch 94/100\n",
            "14/14 [==============================] - 0s 9ms/step - loss: 0.9918 - accuracy: 0.6268 - val_loss: 1.7167 - val_accuracy: 0.4000\n",
            "Epoch 95/100\n",
            "14/14 [==============================] - 0s 10ms/step - loss: 0.9899 - accuracy: 0.6289 - val_loss: 1.7088 - val_accuracy: 0.4095\n",
            "Epoch 96/100\n",
            "14/14 [==============================] - 0s 9ms/step - loss: 0.9736 - accuracy: 0.6373 - val_loss: 1.7294 - val_accuracy: 0.4163\n",
            "Epoch 97/100\n",
            "14/14 [==============================] - 0s 9ms/step - loss: 0.9782 - accuracy: 0.6297 - val_loss: 1.7422 - val_accuracy: 0.4061\n",
            "Epoch 98/100\n",
            "14/14 [==============================] - 0s 9ms/step - loss: 0.9760 - accuracy: 0.6376 - val_loss: 1.7422 - val_accuracy: 0.4020\n",
            "Epoch 99/100\n",
            "14/14 [==============================] - 0s 9ms/step - loss: 0.9555 - accuracy: 0.6510 - val_loss: 1.7496 - val_accuracy: 0.4000\n",
            "Epoch 100/100\n",
            "14/14 [==============================] - 0s 9ms/step - loss: 0.9630 - accuracy: 0.6382 - val_loss: 1.7615 - val_accuracy: 0.4184\n"
          ]
        }
      ]
    },
    {
      "cell_type": "code",
      "metadata": {
        "colab": {
          "base_uri": "https://localhost:8080/",
          "height": 265
        },
        "id": "fQZAfiafkRh4",
        "outputId": "5172743a-05f6-45e9-90c5-c3600cb0c9f3"
      },
      "source": [
        "plt.plot(history_chroma.history['accuracy'], label='train')\n",
        "plt.plot(history_chroma.history['val_accuracy'], label='test')\n",
        "plt.legend()\n",
        "plt.show()"
      ],
      "execution_count": null,
      "outputs": [
        {
          "output_type": "display_data",
          "data": {
            "image/png": "[encoded data removed]",
            "text/plain": [
              "<Figure size 432x288 with 1 Axes>"
            ]
          },
          "metadata": {
            "needs_background": "light"
          }
        }
      ]
    },
    {
      "cell_type": "code",
      "metadata": {
        "colab": {
          "base_uri": "https://localhost:8080/",
          "height": 513
        },
        "id": "i2V5fCaHe6tB",
        "outputId": "ed53ec31-8db6-4c9f-cdf4-33a8e9681db3"
      },
      "source": [
        "from sklearn.metrics import confusion_matrix\n",
        "y_pred = model_chroma.predict(x_test_chroma)\n",
        "cm = confusion_matrix(np.argmax(y_test, axis=1), np.argmax(y_pred, axis=1))\n",
        "cm_df = pd.DataFrame(cm*genre_count/cm.sum(), index = genre_labels, columns = genre_labels)\n",
        "\n",
        "#Plotting the confusion matrix\n",
        "plt.figure(figsize=(16,8))\n",
        "sns.heatmap(cm_df, annot=True)\n",
        "plt.title('Confusion Matrix: Chroma')\n",
        "plt.ylabel('Actal Values')\n",
        "plt.xlabel('Predicted Values')\n",
        "plt.show()"
      ],
      "execution_count": null,
      "outputs": [
        {
          "output_type": "display_data",
          "data": {
            "image/png": "[encoded data removed]",
            "text/plain": [
              "<Figure size 1152x576 with 2 Axes>"
            ]
          },
          "metadata": {
            "needs_background": "light"
          }
        }
      ]
    },
    {
      "cell_type": "code",
      "metadata": {
        "colab": {
          "base_uri": "https://localhost:8080/"
        },
        "id": "GAbEmA1Oe60d",
        "outputId": "c8b45e27-fd06-42fe-ebd9-cdd2b0869464"
      },
      "source": [
        "from sklearn.metrics import classification_report\n",
        "print('\\nClassification Report\\n')\n",
        "print(classification_report(np.argmax(y_test, axis=1), np.argmax(y_pred, axis=1), target_names=genre_labels))"
      ],
      "execution_count": null,
      "outputs": [
        {
          "output_type": "stream",
          "name": "stdout",
          "text": [
            "\n",
            "Classification Report\n",
            "\n",
            "              precision    recall  f1-score   support\n",
            "\n",
            "  Electronic       0.38      0.36      0.37       209\n",
            "        Rock       0.35      0.22      0.27       227\n",
            "         Pop       0.25      0.20      0.22       195\n",
            "       Metal       0.48      0.52      0.50       211\n",
            "         Rap       0.49      0.54      0.51       219\n",
            "         RnB       0.33      0.34      0.34       200\n",
            "     Country       0.52      0.74      0.61       209\n",
            "\n",
            "    accuracy                           0.42      1470\n",
            "   macro avg       0.40      0.42      0.40      1470\n",
            "weighted avg       0.40      0.42      0.40      1470\n",
            "\n"
          ]
        }
      ]
    },
    {
      "cell_type": "code",
      "metadata": {
        "colab": {
          "base_uri": "https://localhost:8080/"
        },
        "id": "ba589WQ4b6M2",
        "outputId": "24ee11e7-993b-4552-e9b4-3f63fb7d4263"
      },
      "source": [
        "model_test_inputs = [x_test_mfcc, x_test_chroma]\n",
        "from sklearn.metrics import accuracy_score\n",
        "\n",
        "models = [model_mfcc, model_chroma]\n",
        "#def ensemble_predictions():\n",
        "\t# make predictions\n",
        "y_test_preds = [model.predict(model_test_inputs[i]) for i, model in enumerate(models)]\n",
        "\t# sum across ensemble members\n",
        "y_test_pred_ensemble_sum = np.sum(np.array(y_test_preds), axis=0)\n",
        "\n",
        "\n",
        "accuracy_score(np.argmax(y_test, axis=1), np.argmax(y_test_pred_ensemble_sum, axis=1))"
      ],
      "execution_count": null,
      "outputs": [
        {
          "output_type": "execute_result",
          "data": {
            "text/plain": [
              "0.5285714285714286"
            ]
          },
          "metadata": {},
          "execution_count": 44
        }
      ]
    },
    {
      "cell_type": "code",
      "metadata": {
        "id": "cEbQXFrb5LUH"
      },
      "source": [
        "#track_count = len(track_genre_df.index.values)\n",
        "wordvec_len = 5000\n",
        "\n",
        "lyric_values = np.zeros((track_count, wordvec_len), dtype=np.float32)\n",
        "\n",
        "for i, track_id in enumerate(track_genre_df.index.values):\n",
        "    lyric_values[i] = np.array(lyric_df[lyric_df.index == track_id]['wordvec'].values[0])"
      ],
      "execution_count": null,
      "outputs": []
    },
    {
      "cell_type": "code",
      "metadata": {
        "id": "F9YyaMO7DpYb"
      },
      "source": [
        "#TF-IDF\n",
        "lyric_values_tf_idf = np.zeros((track_count, wordvec_len), dtype=np.float32)\n",
        "lyric_values_docfreqs = np.zeros((wordvec_len), dtype=np.float32)\n",
        "#lyric_values_docfreqs = np.sum((lyric_values), axis=0)\n",
        "#lyric_values_docfreqs = np.sum((lyric_values > 1), axis=0)\n",
        "for i in range(track_count):\n",
        "  for j in range(wordvec_len):\n",
        "    if lyric_values[i][j] > 0:\n",
        "      lyric_values_docfreqs[j] = lyric_values_docfreqs[j] + 1\n",
        "\n",
        "lyric_values_docwordcounts = np.sum(lyric_values, axis=1)\n",
        "\n",
        "for i in range(track_count):\n",
        "  for  j in range(wordvec_len):\n",
        "    if lyric_values[i][j] > 0:\n",
        "      termfreq = lyric_values[i][j]/lyric_values_docwordcounts[i]\n",
        "      docfreq = lyric_values_docfreqs[j]\n",
        "      idocfreq = np.log(track_count/(docfreq))\n",
        "      tf_idf = termfreq*idocfreq\n",
        "      lyric_values_tf_idf[i][j] = tf_idf"
      ],
      "execution_count": null,
      "outputs": []
    },
    {
      "cell_type": "code",
      "metadata": {
        "id": "BoAuz6tyJV2t"
      },
      "source": [
        "#TF-IGM (Inverse Gravity Moment)\n",
        "tf_igm_lambda = 7\n",
        "\n",
        "term_class_specific_frequency = np.zeros((wordvec_len, genre_count), dtype=np.float32)\n",
        "for i, track_id in enumerate(track_genre_df.index.values):\n",
        "  genre_index = np.argmax(msdi_genres[i])\n",
        "  term_freqs = np.array(lyric_df[lyric_df.index == track_id]['wordvec'].values[0])\n",
        "  term_class_specific_frequency[::,genre_index] = term_class_specific_frequency[::, genre_index] + term_freqs\n",
        "\n",
        "sum_ranked_term_class_specific_frequency = np.zeros((wordvec_len), dtype=np.float32)\n",
        "for i in range(wordvec_len):\n",
        "  val = 0\n",
        "  freqs = np.copy(term_class_specific_frequency[i])\n",
        "  for j in range(genre_count):\n",
        "    val = val+ (j+1)*max(freqs)\n",
        "    freqs[np.argmax(freqs)] = 0\n",
        "  sum_ranked_term_class_specific_frequency[i] = val\n",
        "\n",
        "lyric_values_tf_rigm = np.zeros((track_count, wordvec_len), dtype=np.float32)\n",
        "\n",
        "for i in range(track_count):\n",
        "  genre_index = np.argmax(msdi_genres[i])\n",
        "  for  j in range(wordvec_len):\n",
        "    if lyric_values[i][j] > 0:\n",
        "      termfreq = lyric_values[i][j]/lyric_values_docwordcounts[i]\n",
        "      tfigm = np.sqrt(termfreq)*(1+(tf_igm_lambda*(term_class_specific_frequency[j][genre_index]/sum_ranked_term_class_specific_frequency[j])))\n",
        "      lyric_values_tf_rigm[i][j] = tfigm"
      ],
      "execution_count": null,
      "outputs": []
    },
    {
      "cell_type": "code",
      "metadata": {
        "id": "omfr11zI5XSH"
      },
      "source": [
        "x_train_lyric, x_test_lyric = train_test_split(lyric_values, test_size=modelling_test_size, random_state=1)\n",
        "#lyric_values = None"
      ],
      "execution_count": null,
      "outputs": []
    },
    {
      "cell_type": "code",
      "source": [
        "from sklearn.model_selection import GridSearchCV\n",
        "from sklearn.linear_model import LogisticRegression\n",
        "from sklearn.metrics import accuracy_score\n",
        "import warnings\n",
        "\n",
        "warnings.filterwarnings('ignore')\n",
        "x_train = x_train_lyric\n",
        "\n",
        "grid={\"C\":[0.001, 0.01, 0.1, 1, 10], 'solver':['lbfgs', 'sag', 'newton-cg']} #only l2 supported\n",
        "\n",
        "logreg = LogisticRegression(multi_class='multinomial')\n",
        "gcv=GridSearchCV(logreg,grid,cv=5,scoring='accuracy')\n",
        "gcv.fit(x_train, np.argmax(y_train, axis=1))\n",
        "\n",
        "print(\"tuned hpyerparameters :(best parameters) \",gcv.best_params_)\n",
        "print(\"accuracy :\",gcv.best_score_)"
      ],
      "metadata": {
        "colab": {
          "base_uri": "https://localhost:8080/"
        },
        "id": "B5bi8O1nmbrJ",
        "outputId": "fe1931b6-2587-4c7c-c1ab-f158c20d3ac3"
      },
      "execution_count": null,
      "outputs": [
        {
          "output_type": "stream",
          "name": "stdout",
          "text": [
            "tuned hpyerparameters :(best parameters)  {'C': 0.01, 'solver': 'newton-cg'}\n",
            "accuracy : 0.4574344023323615\n"
          ]
        }
      ]
    },
    {
      "cell_type": "markdown",
      "source": [
        "Test accuracies:\n",
        "wordvec\n",
        "tf-idf\n",
        "rtf-igm"
      ],
      "metadata": {
        "id": "AtpwTLSgm_gZ"
      }
    },
    {
      "cell_type": "code",
      "metadata": {
        "colab": {
          "base_uri": "https://localhost:8080/"
        },
        "id": "1I7tHa3ulVTC",
        "outputId": "3983fffa-446a-4254-f376-470b1f2daca0"
      },
      "source": [
        "from sklearn.linear_model import LogisticRegression\n",
        "from sklearn.metrics import accuracy_score\n",
        "import warnings\n",
        "\n",
        "warnings.filterwarnings('ignore')\n",
        "x_train = x_train_lyric\n",
        "x_test = x_test_lyric\n",
        "\n",
        "model = LogisticRegression(multi_class='multinomial', C=0.01, solver='newton-cg')\n",
        "\n",
        "model.fit(x_train, np.argmax(y_train, axis=1))\n",
        "y_test_pred = model.predict(x_test)\n",
        "print(\"test accuracy : \", accuracy_score(np.argmax(y_test, axis=1), y_test_pred))"
      ],
      "execution_count": null,
      "outputs": [
        {
          "output_type": "stream",
          "name": "stdout",
          "text": [
            "test accuracy :  0.47210884353741495\n"
          ]
        }
      ]
    },
    {
      "cell_type": "code",
      "metadata": {
        "id": "PkwSUildR9Wc"
      },
      "source": [
        "def get_lyric_model(input_shape, num_classes):\n",
        "\n",
        "  model = Sequential()\n",
        "  model.add(Dense(512, input_shape=input_shape, activation='relu', kernel_initializer='he_uniform'))\n",
        "  #model.add(BatchNormalization())\n",
        "\n",
        "  model.add(Dense(512, activation='relu', kernel_initializer='he_uniform'))\n",
        "  model.add(Dropout(0.5))\n",
        "\n",
        "  model.add(Dense(512, activation='relu', kernel_initializer='he_uniform'))\n",
        "  model.add(Dropout(0.5))\n",
        "\n",
        "  model.add(Dense(num_classes, activation='softmax', kernel_initializer='he_uniform'))\n",
        "\n",
        "  model.compile(loss=keras.losses.categorical_crossentropy,\n",
        "              optimizer='adam',\n",
        "              metrics=['accuracy'])\n",
        "  #model.summary\n",
        "  return model"
      ],
      "execution_count": null,
      "outputs": []
    },
    {
      "cell_type": "markdown",
      "source": [
        "Test accuracies:\n",
        "wordvec: 46.2, \n",
        "tf-idf 46.4, \n",
        "rtf-igm 48.8"
      ],
      "metadata": {
        "id": "FNfyRExEuYEz"
      }
    },
    {
      "cell_type": "code",
      "metadata": {
        "colab": {
          "base_uri": "https://localhost:8080/"
        },
        "id": "az1e9kjdR9fe",
        "outputId": "e64dbfa1-7ee3-473c-a2ee-d4e29dd36f76"
      },
      "source": [
        "input_shape = x_train_lyric[0].shape\n",
        "model = get_lyric_model(input_shape, genre_count)\n",
        "x_train = x_train_lyric\n",
        "x_test = x_test_lyric\n",
        "\n",
        "callback = tf.keras.callbacks.EarlyStopping(monitor='loss', patience=3)\n",
        "history_lyric = model.fit(x_train, y_train, epochs=50, batch_size=512, callbacks=[callback], verbose=1, validation_data=(x_test, y_test))\n",
        "model_lyric = model"
      ],
      "execution_count": null,
      "outputs": [
        {
          "output_type": "stream",
          "name": "stdout",
          "text": [
            "Epoch 1/50\n",
            "7/7 [==============================] - 1s 53ms/step - loss: 2.3460 - accuracy: 0.1968 - val_loss: 1.7480 - val_accuracy: 0.2946\n",
            "Epoch 2/50\n",
            "7/7 [==============================] - 0s 29ms/step - loss: 1.7684 - accuracy: 0.3035 - val_loss: 1.6480 - val_accuracy: 0.3898\n",
            "Epoch 3/50\n",
            "7/7 [==============================] - 0s 24ms/step - loss: 1.5893 - accuracy: 0.4143 - val_loss: 1.5637 - val_accuracy: 0.4163\n",
            "Epoch 4/50\n",
            "7/7 [==============================] - 0s 28ms/step - loss: 1.4272 - accuracy: 0.4802 - val_loss: 1.4928 - val_accuracy: 0.4524\n",
            "Epoch 5/50\n",
            "7/7 [==============================] - 0s 24ms/step - loss: 1.2695 - accuracy: 0.5522 - val_loss: 1.4566 - val_accuracy: 0.4687\n",
            "Epoch 6/50\n",
            "7/7 [==============================] - 0s 24ms/step - loss: 1.0859 - accuracy: 0.6224 - val_loss: 1.4201 - val_accuracy: 0.4871\n",
            "Epoch 7/50\n",
            "7/7 [==============================] - 0s 25ms/step - loss: 0.9007 - accuracy: 0.6939 - val_loss: 1.4494 - val_accuracy: 0.4878\n",
            "Epoch 8/50\n",
            "7/7 [==============================] - 0s 29ms/step - loss: 0.7162 - accuracy: 0.7621 - val_loss: 1.5067 - val_accuracy: 0.4980\n",
            "Epoch 9/50\n",
            "7/7 [==============================] - 0s 23ms/step - loss: 0.5594 - accuracy: 0.8178 - val_loss: 1.6104 - val_accuracy: 0.4925\n",
            "Epoch 10/50\n",
            "7/7 [==============================] - 0s 24ms/step - loss: 0.3909 - accuracy: 0.8860 - val_loss: 1.7470 - val_accuracy: 0.4918\n",
            "Epoch 11/50\n",
            "7/7 [==============================] - 0s 29ms/step - loss: 0.2835 - accuracy: 0.9192 - val_loss: 1.9456 - val_accuracy: 0.4959\n",
            "Epoch 12/50\n",
            "7/7 [==============================] - 0s 24ms/step - loss: 0.1922 - accuracy: 0.9493 - val_loss: 2.2204 - val_accuracy: 0.4878\n",
            "Epoch 13/50\n",
            "7/7 [==============================] - 0s 23ms/step - loss: 0.1226 - accuracy: 0.9706 - val_loss: 2.3725 - val_accuracy: 0.4816\n",
            "Epoch 14/50\n",
            "7/7 [==============================] - 0s 29ms/step - loss: 0.0914 - accuracy: 0.9781 - val_loss: 2.6419 - val_accuracy: 0.4823\n",
            "Epoch 15/50\n",
            "7/7 [==============================] - 0s 24ms/step - loss: 0.0684 - accuracy: 0.9816 - val_loss: 2.7923 - val_accuracy: 0.4816\n",
            "Epoch 16/50\n",
            "7/7 [==============================] - 0s 24ms/step - loss: 0.0560 - accuracy: 0.9872 - val_loss: 2.9556 - val_accuracy: 0.4830\n",
            "Epoch 17/50\n",
            "7/7 [==============================] - 0s 24ms/step - loss: 0.0412 - accuracy: 0.9910 - val_loss: 3.0533 - val_accuracy: 0.4884\n",
            "Epoch 18/50\n",
            "7/7 [==============================] - 0s 24ms/step - loss: 0.0320 - accuracy: 0.9950 - val_loss: 3.1369 - val_accuracy: 0.4755\n",
            "Epoch 19/50\n",
            "7/7 [==============================] - 0s 29ms/step - loss: 0.0268 - accuracy: 0.9959 - val_loss: 3.2545 - val_accuracy: 0.4762\n",
            "Epoch 20/50\n",
            "7/7 [==============================] - 0s 23ms/step - loss: 0.0256 - accuracy: 0.9950 - val_loss: 3.2627 - val_accuracy: 0.4735\n",
            "Epoch 21/50\n",
            "7/7 [==============================] - 0s 25ms/step - loss: 0.0176 - accuracy: 0.9971 - val_loss: 3.3407 - val_accuracy: 0.4776\n",
            "Epoch 22/50\n",
            "7/7 [==============================] - 0s 23ms/step - loss: 0.0148 - accuracy: 0.9983 - val_loss: 3.4890 - val_accuracy: 0.4735\n",
            "Epoch 23/50\n",
            "7/7 [==============================] - 0s 29ms/step - loss: 0.0136 - accuracy: 0.9977 - val_loss: 3.5944 - val_accuracy: 0.4762\n",
            "Epoch 24/50\n",
            "7/7 [==============================] - 0s 29ms/step - loss: 0.0119 - accuracy: 0.9983 - val_loss: 3.7405 - val_accuracy: 0.4823\n",
            "Epoch 25/50\n",
            "7/7 [==============================] - 0s 29ms/step - loss: 0.0087 - accuracy: 0.9988 - val_loss: 3.8877 - val_accuracy: 0.4850\n",
            "Epoch 26/50\n",
            "7/7 [==============================] - 0s 28ms/step - loss: 0.0120 - accuracy: 0.9977 - val_loss: 3.9535 - val_accuracy: 0.4803\n",
            "Epoch 27/50\n",
            "7/7 [==============================] - 0s 29ms/step - loss: 0.0089 - accuracy: 0.9985 - val_loss: 3.8815 - val_accuracy: 0.4755\n",
            "Epoch 28/50\n",
            "7/7 [==============================] - 0s 24ms/step - loss: 0.0105 - accuracy: 0.9977 - val_loss: 3.9377 - val_accuracy: 0.4776\n"
          ]
        }
      ]
    },
    {
      "cell_type": "code",
      "metadata": {
        "colab": {
          "base_uri": "https://localhost:8080/",
          "height": 265
        },
        "id": "pdz4O2jskbPK",
        "outputId": "6965d163-6ce3-4334-d274-d897ef6f78d7"
      },
      "source": [
        "plt.plot(history_lyric.history['accuracy'], label='train')\n",
        "plt.plot(history_lyric.history['val_accuracy'], label='test')\n",
        "plt.legend()\n",
        "plt.show()"
      ],
      "execution_count": null,
      "outputs": [
        {
          "output_type": "display_data",
          "data": {
            "image/png": "[encoded data removed]",
            "text/plain": [
              "<Figure size 432x288 with 1 Axes>"
            ]
          },
          "metadata": {
            "needs_background": "light"
          }
        }
      ]
    },
    {
      "cell_type": "code",
      "metadata": {
        "colab": {
          "base_uri": "https://localhost:8080/",
          "height": 513
        },
        "id": "nqnhbPbPR9vb",
        "outputId": "4efe0771-2918-426e-a55a-5c7093313fe3"
      },
      "source": [
        "from sklearn.metrics import confusion_matrix\n",
        "y_pred = model_lyric.predict(x_test_lyric)\n",
        "cm = confusion_matrix(np.argmax(y_test, axis=1), np.argmax(y_pred, axis=1))\n",
        "cm_df = pd.DataFrame(cm*genre_count/cm.sum(), index = genre_labels, columns = genre_labels)\n",
        "\n",
        "#Plotting the confusion matrix\n",
        "plt.figure(figsize=(16,8))\n",
        "sns.heatmap(cm_df, annot=True)\n",
        "plt.title('Confusion Matrix: Lyrics')\n",
        "plt.ylabel('Actal Values')\n",
        "plt.xlabel('Predicted Values')\n",
        "plt.show()"
      ],
      "execution_count": null,
      "outputs": [
        {
          "output_type": "display_data",
          "data": {
            "image/png": "[encoded data removed]",
            "text/plain": [
              "<Figure size 1152x576 with 2 Axes>"
            ]
          },
          "metadata": {
            "needs_background": "light"
          }
        }
      ]
    },
    {
      "cell_type": "code",
      "metadata": {
        "colab": {
          "base_uri": "https://localhost:8080/"
        },
        "id": "yQ8ttt3-enIh",
        "outputId": "bd7a2d56-2319-4131-bd26-e6a79cfba966"
      },
      "source": [
        "from sklearn.metrics import classification_report\n",
        "print('\\nClassification Report\\n')\n",
        "print(classification_report(np.argmax(y_test, axis=1), np.argmax(y_pred, axis=1), target_names=genre_labels))"
      ],
      "execution_count": null,
      "outputs": [
        {
          "output_type": "stream",
          "name": "stdout",
          "text": [
            "\n",
            "Classification Report\n",
            "\n",
            "              precision    recall  f1-score   support\n",
            "\n",
            "  Electronic       0.34      0.41      0.37       209\n",
            "        Rock       0.28      0.22      0.25       227\n",
            "         Pop       0.35      0.26      0.30       195\n",
            "       Metal       0.51      0.59      0.55       211\n",
            "         Rap       0.73      0.78      0.76       219\n",
            "         RnB       0.45      0.48      0.46       200\n",
            "     Country       0.59      0.60      0.59       209\n",
            "\n",
            "    accuracy                           0.48      1470\n",
            "   macro avg       0.47      0.48      0.47      1470\n",
            "weighted avg       0.47      0.48      0.47      1470\n",
            "\n"
          ]
        }
      ]
    },
    {
      "cell_type": "code",
      "metadata": {
        "id": "GV22fyp06ZSE"
      },
      "source": [
        "image_row = 64\n",
        "image_col = 64\n",
        "image_ch = 3\n",
        "\n",
        "msdi_aart_images = np.zeros((track_count, image_row, image_col, image_ch), dtype=np.float32)\n",
        "\n",
        "for i, track_id in enumerate(track_genre_df.index.values):\n",
        "    filepath = 'aart_data/' + track_id[2] + '/' + track_id[3] + '/' + track_id[4] + '/' + track_id + '.jpg'\n",
        "    raw_img = tf.io.read_file(filepath)\n",
        "    img_decoded = tf.image.decode_jpeg(raw_img)\n",
        "    img_tmp = tf.image.resize(img_decoded, [image_row, image_col])\n",
        "    immax = img_tmp.numpy().max()\n",
        "    immin = img_tmp.numpy().min()\n",
        "    imrange = 1\n",
        "    if immax > immin:\n",
        "        imrange = (immax-immin)\n",
        "    img_norm = (img_tmp - immin)/imrange\n",
        "    msdi_aart_images[i] = ((img_norm * 2) - 1)"
      ],
      "execution_count": null,
      "outputs": []
    },
    {
      "cell_type": "code",
      "metadata": {
        "id": "srlsCliO6Zau"
      },
      "source": [
        "x_train_aart, x_test_aart = train_test_split(msdi_aart_images, test_size=modelling_test_size, random_state=1)\n",
        "msdi_aart_images = None"
      ],
      "execution_count": null,
      "outputs": []
    },
    {
      "cell_type": "code",
      "metadata": {
        "id": "cbkfmWOHTSr1"
      },
      "source": [
        "def get_aart_model(input_shape, num_classes):\n",
        "\n",
        "  model = Sequential()\n",
        "  model.add(Conv2D(32, kernel_size=(3, 3), input_shape=input_shape, activation='relu', kernel_initializer='he_uniform'))\n",
        "\n",
        "  model.add(Conv2D(32, kernel_size=(3, 3), activation='relu', kernel_initializer='he_uniform'))\n",
        "  model.add(MaxPooling2D(pool_size=(2,2)))\n",
        "  model.add(Dropout(0.25))\n",
        "\n",
        "  model.add(Flatten())\n",
        "\n",
        "  model.add(Dense(32, activation='relu', kernel_initializer='he_uniform'))\n",
        "  model.add(Dropout(0.5))\n",
        "\n",
        "  model.add(Dense(num_classes, activation='softmax', kernel_initializer='he_uniform'))\n",
        "\n",
        "  model.compile(loss=keras.losses.categorical_crossentropy,\n",
        "              optimizer='adam',\n",
        "              metrics=['accuracy'])\n",
        "  #model.summary\n",
        "  return model"
      ],
      "execution_count": null,
      "outputs": []
    },
    {
      "cell_type": "code",
      "metadata": {
        "colab": {
          "base_uri": "https://localhost:8080/"
        },
        "id": "XTyQ7s1hTSvS",
        "outputId": "e372f838-1a4f-416f-ccc5-db186236683a"
      },
      "source": [
        "input_shape = x_train_aart[0].shape\n",
        "model = get_aart_model(input_shape, genre_count)\n",
        "x_train = x_train_aart\n",
        "x_test = x_test_aart\n",
        "\n",
        "callback = tf.keras.callbacks.EarlyStopping(monitor='loss', patience=3)\n",
        "history_aart = model.fit(x_train, y_train, epochs=100, batch_size=64, callbacks=[callback], verbose=1, validation_data=(x_test, y_test))\n",
        "model_aart = model"
      ],
      "execution_count": null,
      "outputs": [
        {
          "output_type": "stream",
          "name": "stdout",
          "text": [
            "Epoch 1/100\n",
            "54/54 [==============================] - 2s 34ms/step - loss: 2.2212 - accuracy: 0.1388 - val_loss: 1.9453 - val_accuracy: 0.1401\n",
            "Epoch 2/100\n",
            "54/54 [==============================] - 2s 29ms/step - loss: 1.9428 - accuracy: 0.1414 - val_loss: 1.9405 - val_accuracy: 0.1449\n",
            "Epoch 3/100\n",
            "54/54 [==============================] - 1s 26ms/step - loss: 1.9394 - accuracy: 0.1513 - val_loss: 1.9351 - val_accuracy: 0.1483\n",
            "Epoch 4/100\n",
            "54/54 [==============================] - 1s 26ms/step - loss: 1.9362 - accuracy: 0.1487 - val_loss: 1.9340 - val_accuracy: 0.1483\n",
            "Epoch 5/100\n",
            "54/54 [==============================] - 2s 28ms/step - loss: 1.9327 - accuracy: 0.1516 - val_loss: 1.9329 - val_accuracy: 0.1469\n",
            "Epoch 6/100\n",
            "54/54 [==============================] - 1s 26ms/step - loss: 1.9317 - accuracy: 0.1484 - val_loss: 1.9324 - val_accuracy: 0.1422\n",
            "Epoch 7/100\n",
            "54/54 [==============================] - 1s 26ms/step - loss: 1.9292 - accuracy: 0.1560 - val_loss: 1.9304 - val_accuracy: 0.1435\n",
            "Epoch 8/100\n",
            "54/54 [==============================] - 2s 29ms/step - loss: 1.9243 - accuracy: 0.1598 - val_loss: 1.9194 - val_accuracy: 0.1639\n",
            "Epoch 9/100\n",
            "54/54 [==============================] - 2s 29ms/step - loss: 1.9243 - accuracy: 0.1627 - val_loss: 1.9091 - val_accuracy: 0.1571\n",
            "Epoch 10/100\n",
            "54/54 [==============================] - 1s 27ms/step - loss: 1.9110 - accuracy: 0.1534 - val_loss: 1.9096 - val_accuracy: 0.1510\n",
            "Epoch 11/100\n",
            "54/54 [==============================] - 1s 27ms/step - loss: 1.9119 - accuracy: 0.1647 - val_loss: 1.9068 - val_accuracy: 0.1571\n",
            "Epoch 12/100\n",
            "54/54 [==============================] - 2s 30ms/step - loss: 1.8966 - accuracy: 0.1790 - val_loss: 1.8925 - val_accuracy: 0.1694\n",
            "Epoch 13/100\n",
            "54/54 [==============================] - 1s 28ms/step - loss: 1.8881 - accuracy: 0.1831 - val_loss: 1.8889 - val_accuracy: 0.1735\n",
            "Epoch 14/100\n",
            "54/54 [==============================] - 2s 30ms/step - loss: 1.8851 - accuracy: 0.1732 - val_loss: 1.8957 - val_accuracy: 0.1762\n",
            "Epoch 15/100\n",
            "54/54 [==============================] - 2s 28ms/step - loss: 1.8790 - accuracy: 0.1738 - val_loss: 1.8709 - val_accuracy: 0.1918\n",
            "Epoch 16/100\n",
            "54/54 [==============================] - 1s 27ms/step - loss: 1.8590 - accuracy: 0.1927 - val_loss: 1.8582 - val_accuracy: 0.1952\n",
            "Epoch 17/100\n",
            "54/54 [==============================] - 1s 27ms/step - loss: 1.8448 - accuracy: 0.2023 - val_loss: 1.8373 - val_accuracy: 0.2102\n",
            "Epoch 18/100\n",
            "54/54 [==============================] - 1s 27ms/step - loss: 1.8262 - accuracy: 0.2050 - val_loss: 1.8334 - val_accuracy: 0.2068\n",
            "Epoch 19/100\n",
            "54/54 [==============================] - 2s 29ms/step - loss: 1.8170 - accuracy: 0.2108 - val_loss: 1.8296 - val_accuracy: 0.2129\n",
            "Epoch 20/100\n",
            "54/54 [==============================] - 2s 30ms/step - loss: 1.8113 - accuracy: 0.2073 - val_loss: 1.8091 - val_accuracy: 0.2279\n",
            "Epoch 21/100\n",
            "54/54 [==============================] - 1s 27ms/step - loss: 1.7877 - accuracy: 0.2190 - val_loss: 1.8074 - val_accuracy: 0.2190\n",
            "Epoch 22/100\n",
            "54/54 [==============================] - 1s 26ms/step - loss: 1.7774 - accuracy: 0.2195 - val_loss: 1.8023 - val_accuracy: 0.2197\n",
            "Epoch 23/100\n",
            "54/54 [==============================] - 2s 29ms/step - loss: 1.7701 - accuracy: 0.2239 - val_loss: 1.7923 - val_accuracy: 0.2259\n",
            "Epoch 24/100\n",
            "54/54 [==============================] - 2s 29ms/step - loss: 1.7673 - accuracy: 0.2181 - val_loss: 1.7982 - val_accuracy: 0.2388\n",
            "Epoch 25/100\n",
            "54/54 [==============================] - 2s 29ms/step - loss: 1.7507 - accuracy: 0.2309 - val_loss: 1.7789 - val_accuracy: 0.2565\n",
            "Epoch 26/100\n",
            "54/54 [==============================] - 1s 27ms/step - loss: 1.7393 - accuracy: 0.2397 - val_loss: 1.7689 - val_accuracy: 0.2524\n",
            "Epoch 27/100\n",
            "54/54 [==============================] - 1s 27ms/step - loss: 1.7383 - accuracy: 0.2414 - val_loss: 1.7558 - val_accuracy: 0.2701\n",
            "Epoch 28/100\n",
            "54/54 [==============================] - 2s 29ms/step - loss: 1.7184 - accuracy: 0.2472 - val_loss: 1.7621 - val_accuracy: 0.2524\n",
            "Epoch 29/100\n",
            "54/54 [==============================] - 1s 27ms/step - loss: 1.7297 - accuracy: 0.2411 - val_loss: 1.7499 - val_accuracy: 0.2680\n",
            "Epoch 30/100\n",
            "54/54 [==============================] - 2s 30ms/step - loss: 1.7056 - accuracy: 0.2440 - val_loss: 1.7479 - val_accuracy: 0.2531\n",
            "Epoch 31/100\n",
            "54/54 [==============================] - 1s 26ms/step - loss: 1.7192 - accuracy: 0.2452 - val_loss: 1.7505 - val_accuracy: 0.2599\n",
            "Epoch 32/100\n",
            "54/54 [==============================] - 1s 26ms/step - loss: 1.6972 - accuracy: 0.2580 - val_loss: 1.7475 - val_accuracy: 0.2728\n",
            "Epoch 33/100\n",
            "54/54 [==============================] - 1s 27ms/step - loss: 1.6974 - accuracy: 0.2606 - val_loss: 1.7462 - val_accuracy: 0.2741\n",
            "Epoch 34/100\n",
            "54/54 [==============================] - 1s 26ms/step - loss: 1.6854 - accuracy: 0.2569 - val_loss: 1.7333 - val_accuracy: 0.2646\n",
            "Epoch 35/100\n",
            "54/54 [==============================] - 1s 26ms/step - loss: 1.6587 - accuracy: 0.2764 - val_loss: 1.7280 - val_accuracy: 0.2810\n",
            "Epoch 36/100\n",
            "54/54 [==============================] - 2s 29ms/step - loss: 1.6547 - accuracy: 0.2781 - val_loss: 1.7297 - val_accuracy: 0.2789\n",
            "Epoch 37/100\n",
            "54/54 [==============================] - 1s 27ms/step - loss: 1.6469 - accuracy: 0.2714 - val_loss: 1.7227 - val_accuracy: 0.2755\n",
            "Epoch 38/100\n",
            "54/54 [==============================] - 2s 31ms/step - loss: 1.6500 - accuracy: 0.2644 - val_loss: 1.7111 - val_accuracy: 0.2694\n",
            "Epoch 39/100\n",
            "54/54 [==============================] - 2s 28ms/step - loss: 1.6425 - accuracy: 0.2834 - val_loss: 1.7196 - val_accuracy: 0.3156\n",
            "Epoch 40/100\n",
            "54/54 [==============================] - 2s 29ms/step - loss: 1.6397 - accuracy: 0.2857 - val_loss: 1.7088 - val_accuracy: 0.2884\n",
            "Epoch 41/100\n",
            "54/54 [==============================] - 2s 29ms/step - loss: 1.6012 - accuracy: 0.2883 - val_loss: 1.6834 - val_accuracy: 0.3054\n",
            "Epoch 42/100\n",
            "54/54 [==============================] - 2s 28ms/step - loss: 1.6125 - accuracy: 0.2953 - val_loss: 1.7127 - val_accuracy: 0.3000\n",
            "Epoch 43/100\n",
            "54/54 [==============================] - 2s 30ms/step - loss: 1.5976 - accuracy: 0.3029 - val_loss: 1.7203 - val_accuracy: 0.3204\n",
            "Epoch 44/100\n",
            "54/54 [==============================] - 2s 28ms/step - loss: 1.6064 - accuracy: 0.3047 - val_loss: 1.6920 - val_accuracy: 0.3245\n",
            "Epoch 45/100\n",
            "54/54 [==============================] - 2s 30ms/step - loss: 1.5911 - accuracy: 0.2910 - val_loss: 1.7179 - val_accuracy: 0.3007\n",
            "Epoch 46/100\n",
            "54/54 [==============================] - 2s 31ms/step - loss: 1.5723 - accuracy: 0.3149 - val_loss: 1.6808 - val_accuracy: 0.3327\n",
            "Epoch 47/100\n",
            "54/54 [==============================] - 2s 30ms/step - loss: 1.5780 - accuracy: 0.3015 - val_loss: 1.6793 - val_accuracy: 0.3116\n",
            "Epoch 48/100\n",
            "54/54 [==============================] - 2s 31ms/step - loss: 1.5626 - accuracy: 0.3085 - val_loss: 1.6732 - val_accuracy: 0.3367\n",
            "Epoch 49/100\n",
            "54/54 [==============================] - 2s 29ms/step - loss: 1.5407 - accuracy: 0.3245 - val_loss: 1.6850 - val_accuracy: 0.3286\n",
            "Epoch 50/100\n",
            "54/54 [==============================] - 1s 28ms/step - loss: 1.5430 - accuracy: 0.3222 - val_loss: 1.6701 - val_accuracy: 0.3490\n",
            "Epoch 51/100\n",
            "54/54 [==============================] - 2s 30ms/step - loss: 1.5523 - accuracy: 0.3184 - val_loss: 1.6443 - val_accuracy: 0.3442\n",
            "Epoch 52/100\n",
            "54/54 [==============================] - 1s 27ms/step - loss: 1.5313 - accuracy: 0.3277 - val_loss: 1.6638 - val_accuracy: 0.3415\n",
            "Epoch 53/100\n",
            "54/54 [==============================] - 1s 27ms/step - loss: 1.5423 - accuracy: 0.3277 - val_loss: 1.6800 - val_accuracy: 0.3415\n",
            "Epoch 54/100\n",
            "54/54 [==============================] - 2s 30ms/step - loss: 1.5235 - accuracy: 0.3297 - val_loss: 1.7059 - val_accuracy: 0.3435\n",
            "Epoch 55/100\n",
            "54/54 [==============================] - 1s 27ms/step - loss: 1.5270 - accuracy: 0.3373 - val_loss: 1.6795 - val_accuracy: 0.3469\n",
            "Epoch 56/100\n",
            "54/54 [==============================] - 1s 27ms/step - loss: 1.5204 - accuracy: 0.3268 - val_loss: 1.6527 - val_accuracy: 0.3565\n",
            "Epoch 57/100\n",
            "54/54 [==============================] - 2s 30ms/step - loss: 1.5302 - accuracy: 0.3344 - val_loss: 1.6650 - val_accuracy: 0.3558\n",
            "Epoch 58/100\n",
            "54/54 [==============================] - 1s 27ms/step - loss: 1.5004 - accuracy: 0.3420 - val_loss: 1.6440 - val_accuracy: 0.3544\n",
            "Epoch 59/100\n",
            "54/54 [==============================] - 2s 29ms/step - loss: 1.5015 - accuracy: 0.3373 - val_loss: 1.6702 - val_accuracy: 0.3517\n",
            "Epoch 60/100\n",
            "54/54 [==============================] - 1s 27ms/step - loss: 1.4890 - accuracy: 0.3534 - val_loss: 1.6572 - val_accuracy: 0.3456\n",
            "Epoch 61/100\n",
            "54/54 [==============================] - 1s 27ms/step - loss: 1.4953 - accuracy: 0.3356 - val_loss: 1.6716 - val_accuracy: 0.3762\n",
            "Epoch 62/100\n",
            "54/54 [==============================] - 2s 29ms/step - loss: 1.4979 - accuracy: 0.3391 - val_loss: 1.7057 - val_accuracy: 0.3694\n",
            "Epoch 63/100\n",
            "54/54 [==============================] - 1s 27ms/step - loss: 1.4650 - accuracy: 0.3589 - val_loss: 1.6755 - val_accuracy: 0.3578\n",
            "Epoch 64/100\n",
            "54/54 [==============================] - 2s 29ms/step - loss: 1.4720 - accuracy: 0.3522 - val_loss: 1.6766 - val_accuracy: 0.3748\n",
            "Epoch 65/100\n",
            "54/54 [==============================] - 2s 29ms/step - loss: 1.4868 - accuracy: 0.3417 - val_loss: 1.6682 - val_accuracy: 0.3748\n",
            "Epoch 66/100\n",
            "54/54 [==============================] - 2s 29ms/step - loss: 1.4752 - accuracy: 0.3618 - val_loss: 1.6755 - val_accuracy: 0.3769\n"
          ]
        }
      ]
    },
    {
      "cell_type": "code",
      "metadata": {
        "colab": {
          "base_uri": "https://localhost:8080/",
          "height": 265
        },
        "id": "QgnmtMOCkl1E",
        "outputId": "0f6b079b-b986-4323-870c-6f836957478e"
      },
      "source": [
        "plt.plot(history_aart.history['accuracy'], label='train')\n",
        "plt.plot(history_aart.history['val_accuracy'], label='test')\n",
        "plt.legend()\n",
        "plt.show()"
      ],
      "execution_count": null,
      "outputs": [
        {
          "output_type": "display_data",
          "data": {
            "image/png": "[encoded data removed]",
            "text/plain": [
              "<Figure size 432x288 with 1 Axes>"
            ]
          },
          "metadata": {
            "needs_background": "light"
          }
        }
      ]
    },
    {
      "cell_type": "code",
      "metadata": {
        "colab": {
          "base_uri": "https://localhost:8080/",
          "height": 513
        },
        "id": "_u-noqt2b6zR",
        "outputId": "d079718d-3f2a-469f-97e6-db95e882aaae"
      },
      "source": [
        "from sklearn.metrics import confusion_matrix\n",
        "y_pred = model_aart.predict(x_test_aart)\n",
        "cm = confusion_matrix(np.argmax(y_test, axis=1), np.argmax(y_pred, axis=1))\n",
        "cm_df = pd.DataFrame(cm*genre_count/cm.sum(), index = genre_labels, columns = genre_labels)\n",
        "\n",
        "#Plotting the confusion matrix\n",
        "plt.figure(figsize=(16,8))\n",
        "sns.heatmap(cm_df, annot=True)\n",
        "plt.title('Confusion Matrix: Album Arts')\n",
        "plt.ylabel('Actal Values')\n",
        "plt.xlabel('Predicted Values')\n",
        "plt.show()"
      ],
      "execution_count": null,
      "outputs": [
        {
          "output_type": "display_data",
          "data": {
            "image/png": "[encoded data removed]",
            "text/plain": [
              "<Figure size 1152x576 with 2 Axes>"
            ]
          },
          "metadata": {
            "needs_background": "light"
          }
        }
      ]
    },
    {
      "cell_type": "code",
      "metadata": {
        "colab": {
          "base_uri": "https://localhost:8080/"
        },
        "id": "5PHyfxoVTS3i",
        "outputId": "19063698-db19-4b88-f0ac-95a959121fa5"
      },
      "source": [
        "from sklearn.metrics import classification_report\n",
        "print('\\nClassification Report\\n')\n",
        "print(classification_report(np.argmax(y_test, axis=1), np.argmax(y_pred, axis=1), target_names=genre_labels))"
      ],
      "execution_count": null,
      "outputs": [
        {
          "output_type": "stream",
          "name": "stdout",
          "text": [
            "\n",
            "Classification Report\n",
            "\n",
            "              precision    recall  f1-score   support\n",
            "\n",
            "  Electronic       0.59      0.39      0.47       209\n",
            "        Rock       0.35      0.10      0.16       227\n",
            "         Pop       0.31      0.39      0.35       195\n",
            "       Metal       0.62      0.47      0.53       211\n",
            "         Rap       0.51      0.33      0.40       219\n",
            "         RnB       0.46      0.12      0.19       200\n",
            "     Country       0.27      0.85      0.41       209\n",
            "\n",
            "    accuracy                           0.38      1470\n",
            "   macro avg       0.44      0.38      0.36      1470\n",
            "weighted avg       0.45      0.38      0.36      1470\n",
            "\n"
          ]
        }
      ]
    },
    {
      "cell_type": "code",
      "metadata": {
        "id": "lse16pWI-Jpu"
      },
      "source": [
        "feature_count = 3\n",
        "\n",
        "msdi_misc_feature_values = np.zeros((track_count, feature_count), dtype=np.float32)\n",
        "\n",
        "for i, track_id in enumerate(track_genre_df.index.values):\n",
        "    base_dir = 'msd_data/' + track_id[2] + '/' + track_id[3] + '/' + track_id[4]\n",
        "    filepath = base_dir + '/' + track_id + '.h5'\n",
        "    try:\n",
        "      hfile = h5py.File(filepath, 'r')\n",
        "\n",
        "      msdi_misc_feature_values[0] = hfile['analysis']['songs']['loudness'][0] #loudness: general loudness of the track\n",
        "      msdi_misc_feature_values[1] = hfile['analysis']['songs']['tempo'][0] #tempo: tempo in BPM according to The Echo Nest\n",
        "      msdi_misc_feature_values[2] = hfile['musicbrainz']['songs']['year'][0] #year: year when this song was released, according to musicbrainz.org\n",
        "\n",
        "    except (RuntimeError, TypeError, NameError, OSError):\n",
        "      print('failed for file: ', filepath)"
      ],
      "execution_count": null,
      "outputs": []
    },
    {
      "cell_type": "code",
      "metadata": {
        "id": "HKo3teD-hOLQ"
      },
      "source": [
        "x_train_misc_features, x_test_misc_features = train_test_split(msdi_misc_feature_values, test_size=modelling_test_size, random_state=1)\n",
        "msdi_misc_feature_values = None"
      ],
      "execution_count": null,
      "outputs": []
    },
    {
      "cell_type": "code",
      "source": [
        "from sklearn.model_selection import GridSearchCV\n",
        "from sklearn.linear_model import LogisticRegression\n",
        "from sklearn.metrics import accuracy_score\n",
        "import warnings\n",
        "\n",
        "warnings.filterwarnings('ignore')\n",
        "x_train = x_train_misc_features\n",
        "\n",
        "grid={\"C\":[0.001, 0.01, 0.1, 1, 10], 'solver':['lbfgs', 'sag', 'newton-cg']} #only l2 supported\n",
        "\n",
        "logreg = LogisticRegression(multi_class='multinomial')\n",
        "gcv=GridSearchCV(logreg,grid,cv=10,scoring='accuracy')\n",
        "gcv.fit(x_train, np.argmax(y_train, axis=1))\n",
        "\n",
        "print(\"tuned hpyerparameters :(best parameters) \",gcv.best_params_)\n",
        "print(\"accuracy :\",gcv.best_score_)"
      ],
      "metadata": {
        "colab": {
          "base_uri": "https://localhost:8080/"
        },
        "id": "ckWaEYxlnsjM",
        "outputId": "afdf5ba6-33e4-4fc3-ca05-824d2baad7c8"
      },
      "execution_count": null,
      "outputs": [
        {
          "output_type": "stream",
          "name": "stdout",
          "text": [
            "tuned hpyerparameters :(best parameters)  {'C': 0.001, 'solver': 'lbfgs'}\n",
            "accuracy : 0.14723032069970846\n"
          ]
        }
      ]
    },
    {
      "cell_type": "code",
      "source": [
        "from sklearn.linear_model import LogisticRegression\n",
        "from sklearn.metrics import accuracy_score\n",
        "import warnings\n",
        "\n",
        "warnings.filterwarnings('ignore')\n",
        "x_train = x_train_misc_features\n",
        "x_test = x_test_misc_features\n",
        "\n",
        "model = LogisticRegression(multi_class='multinomial', C=.001, solver='lbfgs')\n",
        "\n",
        "model.fit(x_train, np.argmax(y_train, axis=1))\n",
        "y_test_pred = model.predict(x_test)\n",
        "print(\"test accuracy : \", accuracy_score(np.argmax(y_test, axis=1), y_test_pred))"
      ],
      "metadata": {
        "colab": {
          "base_uri": "https://localhost:8080/"
        },
        "id": "LXu0YFz7rh0R",
        "outputId": "7d1dab9e-0cc8-4e3b-91f4-a68b3017ded4"
      },
      "execution_count": null,
      "outputs": [
        {
          "output_type": "stream",
          "name": "stdout",
          "text": [
            "test accuracy :  0.1326530612244898\n"
          ]
        }
      ]
    },
    {
      "cell_type": "code",
      "metadata": {
        "id": "666jR20REHer"
      },
      "source": [
        "def get_misc_feature_model(input_shape, num_classes):\n",
        "\n",
        "  model = Sequential()\n",
        "  model.add(Dense(512, input_shape=input_shape, activation='relu', kernel_initializer='he_uniform'))\n",
        "  #model.add(BatchNormalization())\n",
        "\n",
        "  model.add(Dense(512, activation='relu', kernel_initializer='he_uniform'))\n",
        "  model.add(Dropout(0.25))\n",
        "\n",
        "  model.add(Dense(num_classes, activation='softmax', kernel_initializer='he_uniform'))\n",
        "\n",
        "  model.compile(loss=keras.losses.categorical_crossentropy,\n",
        "              optimizer='adam',\n",
        "              metrics=['accuracy'])\n",
        "  #model.summary\n",
        "  return model"
      ],
      "execution_count": null,
      "outputs": []
    },
    {
      "cell_type": "code",
      "metadata": {
        "colab": {
          "base_uri": "https://localhost:8080/"
        },
        "id": "9NlyiA7ZqI2y",
        "outputId": "ce9cfb18-cc6f-46c0-f57b-4120a2f749aa"
      },
      "source": [
        "input_shape = x_train_misc_features[0].shape\n",
        "model = get_misc_feature_model(input_shape, genre_count)\n",
        "x_train = x_train_misc_features\n",
        "x_test = x_test_misc_features\n",
        "\n",
        "callback = tf.keras.callbacks.EarlyStopping(monitor='loss', patience=3)\n",
        "history_misc_feature = model.fit(x_train, y_train, epochs=100, batch_size=512, callbacks=[callback], verbose=1, validation_data=(x_test, y_test))\n",
        "model_misc_feature = model"
      ],
      "execution_count": null,
      "outputs": [
        {
          "output_type": "stream",
          "name": "stdout",
          "text": [
            "Epoch 1/100\n",
            "7/7 [==============================] - 1s 38ms/step - loss: 2.4465 - accuracy: 0.1429 - val_loss: 2.3896 - val_accuracy: 0.1327\n",
            "Epoch 2/100\n",
            "7/7 [==============================] - 0s 12ms/step - loss: 1.9448 - accuracy: 0.1475 - val_loss: 2.9105 - val_accuracy: 0.1327\n",
            "Epoch 3/100\n",
            "7/7 [==============================] - 0s 13ms/step - loss: 1.9447 - accuracy: 0.1475 - val_loss: 3.1550 - val_accuracy: 0.1327\n",
            "Epoch 4/100\n",
            "7/7 [==============================] - 0s 12ms/step - loss: 1.9448 - accuracy: 0.1475 - val_loss: 3.3164 - val_accuracy: 0.1327\n",
            "Epoch 5/100\n",
            "7/7 [==============================] - 0s 12ms/step - loss: 1.9447 - accuracy: 0.1475 - val_loss: 3.3961 - val_accuracy: 0.1327\n",
            "Epoch 6/100\n",
            "7/7 [==============================] - 0s 11ms/step - loss: 1.9447 - accuracy: 0.1475 - val_loss: 3.4141 - val_accuracy: 0.1327\n",
            "Epoch 7/100\n",
            "7/7 [==============================] - 0s 11ms/step - loss: 1.9449 - accuracy: 0.1440 - val_loss: 3.4084 - val_accuracy: 0.1327\n",
            "Epoch 8/100\n",
            "7/7 [==============================] - 0s 11ms/step - loss: 1.9446 - accuracy: 0.1475 - val_loss: 3.4272 - val_accuracy: 0.1327\n",
            "Epoch 9/100\n",
            "7/7 [==============================] - 0s 11ms/step - loss: 1.9447 - accuracy: 0.1458 - val_loss: 3.4318 - val_accuracy: 0.1327\n",
            "Epoch 10/100\n",
            "7/7 [==============================] - 0s 11ms/step - loss: 1.9447 - accuracy: 0.1496 - val_loss: 3.4361 - val_accuracy: 0.1327\n",
            "Epoch 11/100\n",
            "7/7 [==============================] - 0s 11ms/step - loss: 1.9446 - accuracy: 0.1446 - val_loss: 3.4581 - val_accuracy: 0.1327\n",
            "Epoch 12/100\n",
            "7/7 [==============================] - 0s 11ms/step - loss: 1.9447 - accuracy: 0.1469 - val_loss: 3.4695 - val_accuracy: 0.1327\n",
            "Epoch 13/100\n",
            "7/7 [==============================] - 0s 11ms/step - loss: 1.9446 - accuracy: 0.1478 - val_loss: 3.4781 - val_accuracy: 0.1327\n",
            "Epoch 14/100\n",
            "7/7 [==============================] - 0s 11ms/step - loss: 1.9446 - accuracy: 0.1472 - val_loss: 3.4775 - val_accuracy: 0.1327\n",
            "Epoch 15/100\n",
            "7/7 [==============================] - 0s 12ms/step - loss: 1.9446 - accuracy: 0.1472 - val_loss: 3.4855 - val_accuracy: 0.1327\n",
            "Epoch 16/100\n",
            "7/7 [==============================] - 0s 11ms/step - loss: 1.9446 - accuracy: 0.1481 - val_loss: 3.4910 - val_accuracy: 0.1327\n",
            "Epoch 17/100\n",
            "7/7 [==============================] - 0s 14ms/step - loss: 1.9446 - accuracy: 0.1487 - val_loss: 3.5052 - val_accuracy: 0.1327\n"
          ]
        }
      ]
    },
    {
      "cell_type": "code",
      "metadata": {
        "colab": {
          "base_uri": "https://localhost:8080/",
          "height": 265
        },
        "id": "eKOC_ahKk0vS",
        "outputId": "aaa9a76a-3aa2-48c3-d489-dfb349f9e4d0"
      },
      "source": [
        "plt.plot(history_misc_feature.history['accuracy'], label='train')\n",
        "plt.plot(history_misc_feature.history['val_accuracy'], label='test')\n",
        "plt.legend()\n",
        "plt.show()"
      ],
      "execution_count": null,
      "outputs": [
        {
          "output_type": "display_data",
          "data": {
            "image/png": "[encoded data removed]",
            "text/plain": [
              "<Figure size 432x288 with 1 Axes>"
            ]
          },
          "metadata": {
            "needs_background": "light"
          }
        }
      ]
    },
    {
      "cell_type": "code",
      "metadata": {
        "colab": {
          "base_uri": "https://localhost:8080/",
          "height": 513
        },
        "id": "VoM_P7AfeCFI",
        "outputId": "8fae1006-01b2-4e74-f7ce-20bb837e1b88"
      },
      "source": [
        "from sklearn.metrics import confusion_matrix\n",
        "y_pred = model_misc_feature.predict(x_test_misc_features)\n",
        "cm = confusion_matrix(np.argmax(y_test, axis=1), np.argmax(y_pred, axis=1))\n",
        "cm_df = pd.DataFrame(cm*genre_count/cm.sum(), index = genre_labels, columns = genre_labels)\n",
        "\n",
        "#Plotting the confusion matrix\n",
        "plt.figure(figsize=(16,8))\n",
        "sns.heatmap(cm_df, annot=True)\n",
        "plt.title('Confusion Matrix: Aggregate Features')\n",
        "plt.ylabel('Actal Values')\n",
        "plt.xlabel('Predicted Values')\n",
        "plt.show()"
      ],
      "execution_count": null,
      "outputs": [
        {
          "output_type": "display_data",
          "data": {
            "image/png": "[encoded data removed]",
            "text/plain": [
              "<Figure size 1152x576 with 2 Axes>"
            ]
          },
          "metadata": {
            "needs_background": "light"
          }
        }
      ]
    },
    {
      "cell_type": "code",
      "metadata": {
        "colab": {
          "base_uri": "https://localhost:8080/"
        },
        "id": "8euD5Pa8eCNU",
        "outputId": "3ba92bee-bf1e-405f-e848-a7d0ea099572"
      },
      "source": [
        "from sklearn.metrics import classification_report\n",
        "print('\\nClassification Report\\n')\n",
        "print(classification_report(np.argmax(y_test, axis=1), np.argmax(y_pred, axis=1), target_names=genre_labels))"
      ],
      "execution_count": null,
      "outputs": [
        {
          "output_type": "stream",
          "name": "stdout",
          "text": [
            "\n",
            "Classification Report\n",
            "\n",
            "              precision    recall  f1-score   support\n",
            "\n",
            "  Electronic       0.00      0.00      0.00       209\n",
            "        Rock       0.00      0.00      0.00       227\n",
            "         Pop       0.13      1.00      0.23       195\n",
            "       Metal       0.00      0.00      0.00       211\n",
            "         Rap       0.00      0.00      0.00       219\n",
            "         RnB       0.00      0.00      0.00       200\n",
            "     Country       0.00      0.00      0.00       209\n",
            "\n",
            "    accuracy                           0.13      1470\n",
            "   macro avg       0.02      0.14      0.03      1470\n",
            "weighted avg       0.02      0.13      0.03      1470\n",
            "\n"
          ]
        }
      ]
    },
    {
      "cell_type": "code",
      "metadata": {
        "id": "q9f3hCWQ7_Lc"
      },
      "source": [
        "models = [model_mfcc, model_chroma, model_lyric, model_aart, model_misc_feature]\n",
        "model_names = ['model_mfcc', 'model_chroma', 'model_lyric', 'model_aart', 'model_misc_feature']"
      ],
      "execution_count": null,
      "outputs": []
    },
    {
      "cell_type": "code",
      "metadata": {
        "colab": {
          "base_uri": "https://localhost:8080/"
        },
        "id": "bEG8V6TQ9Cdo",
        "outputId": "d113036d-dce7-4d94-9617-fa81166b1948"
      },
      "source": [
        "!rm -rf models_bkp.zip\n",
        "for i, model in enumerate(models):\n",
        "  cmd = r'rm -rf ' + model_names[i]\n",
        "  os.system(cmd)\n",
        "  model.save(model_names[i])"
      ],
      "execution_count": null,
      "outputs": [
        {
          "output_type": "stream",
          "name": "stdout",
          "text": [
            "INFO:tensorflow:Assets written to: model_mfcc/assets\n",
            "INFO:tensorflow:Assets written to: model_chroma/assets\n",
            "INFO:tensorflow:Assets written to: model_lyric/assets\n",
            "INFO:tensorflow:Assets written to: model_aart/assets\n",
            "INFO:tensorflow:Assets written to: model_misc_feature/assets\n"
          ]
        }
      ]
    },
    {
      "cell_type": "code",
      "metadata": {
        "colab": {
          "base_uri": "https://localhost:8080/"
        },
        "id": "VANdZlLpf-kW",
        "outputId": "ccb84764-593b-4fa6-ff8c-9133eca2c1fc"
      },
      "source": [
        "!ls"
      ],
      "execution_count": null,
      "outputs": [
        {
          "output_type": "stream",
          "name": "stdout",
          "text": [
            "aart_data      model_aart    model_mfcc\t\t msd_data.zip\n",
            "aart_data.zip  model_chroma  model_misc_feature  sample_data\n",
            "lyric_df.pkl   model_lyric   msd_data\t\t shortlisted_tracks_df.pkl\n"
          ]
        }
      ]
    },
    {
      "cell_type": "code",
      "metadata": {
        "colab": {
          "base_uri": "https://localhost:8080/"
        },
        "id": "7P8ZThWNXZmK",
        "outputId": "59922780-4985-4e55-f70a-499dd67a9415"
      },
      "source": [
        "!zip -r models_bkp.zip model_mfcc model_chroma model_lyric model_aart model_misc_feature\n",
        "!ls  "
      ],
      "execution_count": null,
      "outputs": [
        {
          "output_type": "stream",
          "name": "stdout",
          "text": [
            "  adding: model_mfcc/ (stored 0%)\n",
            "  adding: model_mfcc/saved_model.pb (deflated 88%)\n",
            "  adding: model_mfcc/keras_metadata.pb (deflated 89%)\n",
            "  adding: model_mfcc/assets/ (stored 0%)\n",
            "  adding: model_mfcc/variables/ (stored 0%)\n",
            "  adding: model_mfcc/variables/variables.data-00000-of-00001 (deflated 10%)\n",
            "  adding: model_mfcc/variables/variables.index (deflated 64%)\n",
            "  adding: model_chroma/ (stored 0%)\n",
            "  adding: model_chroma/saved_model.pb (deflated 89%)\n",
            "  adding: model_chroma/keras_metadata.pb (deflated 89%)\n",
            "  adding: model_chroma/assets/ (stored 0%)\n",
            "  adding: model_chroma/variables/ (stored 0%)\n",
            "  adding: model_chroma/variables/variables.data-00000-of-00001 (deflated 13%)\n",
            "  adding: model_chroma/variables/variables.index (deflated 64%)\n",
            "  adding: model_lyric/ (stored 0%)\n",
            "  adding: model_lyric/saved_model.pb (deflated 89%)\n",
            "  adding: model_lyric/keras_metadata.pb (deflated 89%)\n",
            "  adding: model_lyric/assets/ (stored 0%)\n",
            "  adding: model_lyric/variables/ (stored 0%)\n",
            "  adding: model_lyric/variables/variables.data-00000-of-00001 (deflated 9%)\n",
            "  adding: model_lyric/variables/variables.index (deflated 65%)\n",
            "  adding: model_aart/ (stored 0%)\n",
            "  adding: model_aart/saved_model.pb (deflated 89%)\n",
            "  adding: model_aart/keras_metadata.pb (deflated 90%)\n",
            "  adding: model_aart/assets/ (stored 0%)\n",
            "  adding: model_aart/variables/ (stored 0%)\n",
            "  adding: model_aart/variables/variables.data-00000-of-00001 (deflated 22%)\n",
            "  adding: model_aart/variables/variables.index (deflated 65%)\n",
            "  adding: model_misc_feature/ (stored 0%)\n",
            "  adding: model_misc_feature/saved_model.pb (deflated 88%)\n",
            "  adding: model_misc_feature/keras_metadata.pb (deflated 87%)\n",
            "  adding: model_misc_feature/assets/ (stored 0%)\n",
            "  adding: model_misc_feature/variables/ (stored 0%)\n",
            "  adding: model_misc_feature/variables/variables.data-00000-of-00001 (deflated 27%)\n",
            "  adding: model_misc_feature/variables/variables.index (deflated 62%)\n",
            "aart_data      model_chroma\t   models_bkp.zip  shortlisted_tracks_df.pkl\n",
            "aart_data.zip  model_lyric\t   msd_data\n",
            "lyric_df.pkl   model_mfcc\t   msd_data.zip\n",
            "model_aart     model_misc_feature  sample_data\n"
          ]
        }
      ]
    },
    {
      "cell_type": "code",
      "metadata": {
        "id": "0GQ1oZVwWfud"
      },
      "source": [
        "#''' uncomment to load models\n",
        "# TAKE ID FROM SHAREABLE LINK\n",
        "#https://drive.google.com/file/d/1_GdvevUFAircgpBofeVtToNqVwzdcA45/view?usp=sharing\n",
        "file_id = r'1_GdvevUFAircgpBofeVtToNqVwzdcA45'\n",
        "# DESTINATION FILE ON YOUR DISK\n",
        "destination = 'models_bkp.zip' \n",
        "download_file_from_google_drive(file_id, destination)\n",
        "#'''"
      ],
      "execution_count": null,
      "outputs": []
    },
    {
      "cell_type": "code",
      "metadata": {
        "colab": {
          "base_uri": "https://localhost:8080/",
          "height": 235
        },
        "id": "rxu82dmjWtzR",
        "outputId": "a92355ee-2491-4a1f-9985-6efb321fdbc7"
      },
      "source": [
        "for i, model in enumerate(models):\n",
        "  cmd = r'rm -rf ' + model_names[i]\n",
        "  os.system(cmd)\n",
        "  print('deleting model folder: ', cmd)\n",
        "!ls"
      ],
      "execution_count": null,
      "outputs": [
        {
          "output_type": "error",
          "ename": "NameError",
          "evalue": "ignored",
          "traceback": [
            "\u001b[0;31m---------------------------------------------------------------------------\u001b[0m",
            "\u001b[0;31mNameError\u001b[0m                                 Traceback (most recent call last)",
            "\u001b[0;32m<ipython-input-27-3b6d6dbc6199>\u001b[0m in \u001b[0;36m<module>\u001b[0;34m()\u001b[0m\n\u001b[0;32m----> 1\u001b[0;31m \u001b[0;32mfor\u001b[0m \u001b[0mi\u001b[0m\u001b[0;34m,\u001b[0m \u001b[0mmodel\u001b[0m \u001b[0;32min\u001b[0m \u001b[0menumerate\u001b[0m\u001b[0;34m(\u001b[0m\u001b[0mmodels\u001b[0m\u001b[0;34m)\u001b[0m\u001b[0;34m:\u001b[0m\u001b[0;34m\u001b[0m\u001b[0;34m\u001b[0m\u001b[0m\n\u001b[0m\u001b[1;32m      2\u001b[0m   \u001b[0mcmd\u001b[0m \u001b[0;34m=\u001b[0m \u001b[0;34mr'rm -rf '\u001b[0m \u001b[0;34m+\u001b[0m \u001b[0mmodel_names\u001b[0m\u001b[0;34m[\u001b[0m\u001b[0mi\u001b[0m\u001b[0;34m]\u001b[0m\u001b[0;34m\u001b[0m\u001b[0;34m\u001b[0m\u001b[0m\n\u001b[1;32m      3\u001b[0m   \u001b[0mos\u001b[0m\u001b[0;34m.\u001b[0m\u001b[0msystem\u001b[0m\u001b[0;34m(\u001b[0m\u001b[0mcmd\u001b[0m\u001b[0;34m)\u001b[0m\u001b[0;34m\u001b[0m\u001b[0;34m\u001b[0m\u001b[0m\n\u001b[1;32m      4\u001b[0m   \u001b[0mprint\u001b[0m\u001b[0;34m(\u001b[0m\u001b[0;34m'deleting model folder: '\u001b[0m\u001b[0;34m,\u001b[0m \u001b[0mcmd\u001b[0m\u001b[0;34m)\u001b[0m\u001b[0;34m\u001b[0m\u001b[0;34m\u001b[0m\u001b[0m\n\u001b[1;32m      5\u001b[0m \u001b[0mget_ipython\u001b[0m\u001b[0;34m(\u001b[0m\u001b[0;34m)\u001b[0m\u001b[0;34m.\u001b[0m\u001b[0msystem\u001b[0m\u001b[0;34m(\u001b[0m\u001b[0;34m'ls'\u001b[0m\u001b[0;34m)\u001b[0m\u001b[0;34m\u001b[0m\u001b[0;34m\u001b[0m\u001b[0m\n",
            "\u001b[0;31mNameError\u001b[0m: name 'models' is not defined"
          ]
        }
      ]
    },
    {
      "cell_type": "code",
      "metadata": {
        "colab": {
          "base_uri": "https://localhost:8080/"
        },
        "id": "MXpw7f7mW5mC",
        "outputId": "cd10accf-762c-4175-f91a-acb23e153312"
      },
      "source": [
        "!unzip -q models_bkp.zip\n",
        "!ls"
      ],
      "execution_count": null,
      "outputs": [
        {
          "output_type": "stream",
          "name": "stdout",
          "text": [
            "aart_data      model_chroma\t   models_bkp.zip  shortlisted_tracks_df.pkl\n",
            "aart_data.zip  model_lyric\t   msd_data\n",
            "lyric_df.pkl   model_mfcc\t   msd_data.zip\n",
            "model_aart     model_misc_feature  sample_data\n"
          ]
        }
      ]
    },
    {
      "cell_type": "code",
      "metadata": {
        "id": "Rl9Cnb9D9ClJ"
      },
      "source": [
        "#''' uncomment to load models\n",
        "models = []\n",
        "model_names = ['model_mfcc', 'model_chroma', 'model_lyric', 'model_aart']#, 'model_misc_feature']\n",
        "for name in model_names:\n",
        "  models.append(keras.models.load_model(name))\n",
        "#'''"
      ],
      "execution_count": null,
      "outputs": []
    },
    {
      "cell_type": "code",
      "metadata": {
        "colab": {
          "base_uri": "https://localhost:8080/"
        },
        "id": "0E5eHfmOm6j1",
        "outputId": "58faf8c2-f631-43e5-d6f4-d1ff1910e29d"
      },
      "source": [
        "from google.colab import drive\n",
        "drive.mount('/content/drive')"
      ],
      "execution_count": null,
      "outputs": [
        {
          "output_type": "stream",
          "name": "stdout",
          "text": [
            "Mounted at /content/drive\n"
          ]
        }
      ]
    },
    {
      "cell_type": "code",
      "metadata": {
        "id": "LMgspUl-nNJf"
      },
      "source": [
        "!cp models_bkp.zip /content/drive/MyDrive/"
      ],
      "execution_count": null,
      "outputs": []
    },
    {
      "cell_type": "code",
      "source": [
        "from sklearn.metrics import accuracy_score\n",
        "\n",
        "model_test_inputs = [x_test_mfcc, x_test_chroma, x_test_lyric, x_test_aart]\n",
        "#models = [model_mfcc, model_chroma, model_lyric, model_aart]\n",
        "\n",
        "#def ensemble_predictions():\n",
        "\t# make predictions\n",
        "y_test_preds = [model.predict(model_test_inputs[i]) for i, model in enumerate(models)]\n",
        "\t# sum across ensemble members\n",
        "y_test_pred_ensemble_sum = np.sum(np.array(y_test_preds), axis=0)\n",
        "\n",
        "accuracy_score(np.argmax(y_test, axis=1), np.argmax(y_test_pred_ensemble_sum, axis=1))"
      ],
      "metadata": {
        "colab": {
          "base_uri": "https://localhost:8080/"
        },
        "id": "UNTKFvU0peAJ",
        "outputId": "bc8a9d8d-3832-4fc5-c506-688532c7d484"
      },
      "execution_count": null,
      "outputs": [
        {
          "output_type": "execute_result",
          "data": {
            "text/plain": [
              "0.6068027210884354"
            ]
          },
          "metadata": {},
          "execution_count": 32
        }
      ]
    },
    {
      "cell_type": "code",
      "metadata": {
        "colab": {
          "base_uri": "https://localhost:8080/"
        },
        "id": "cQaM0lxarEFK",
        "outputId": "6e283fd7-561d-492e-9725-e1432c7a4e5b"
      },
      "source": [
        "from sklearn.metrics import accuracy_score\n",
        "\n",
        "model_test_inputs = [x_test_mfcc, x_test_chroma, x_test_lyric, x_test_aart]\n",
        "models = [model_mfcc, model_chroma, model_lyric, model_aart]\n",
        "\n",
        "#def ensemble_predictions():\n",
        "\t# make predictions\n",
        "y_test_preds = [model.predict(model_test_inputs[i]) for i, model in enumerate(models)]\n",
        "\t# sum across ensemble members\n",
        "y_test_pred_ensemble_sum = np.sum(np.array(y_test_preds), axis=0)\n",
        "\n",
        "accuracy_score(np.argmax(y_test, axis=1), np.argmax(y_test_pred_ensemble_sum, axis=1))"
      ],
      "execution_count": null,
      "outputs": [
        {
          "output_type": "execute_result",
          "data": {
            "text/plain": [
              "0.6068027210884354"
            ]
          },
          "metadata": {},
          "execution_count": 117
        }
      ]
    },
    {
      "cell_type": "code",
      "metadata": {
        "colab": {
          "base_uri": "https://localhost:8080/"
        },
        "id": "FmkDNVhFgU7I",
        "outputId": "9efe208b-b65c-4a53-be39-5aa39281e14f"
      },
      "source": [
        "from sklearn.metrics import accuracy_score\n",
        "\n",
        "model_test_inputs = [x_test_mfcc, x_test_chroma, x_test_lyric, x_test_aart]\n",
        "#models = [model_mfcc, model_chroma, model_lyric, model_aart]\n",
        "\n",
        "#def ensemble_predictions():\n",
        "\t# make predictions\n",
        "y_test_preds = [model.predict(model_test_inputs[i]) for i, model in enumerate(models)]\n",
        "y_test_preds_np = np.array(y_test_preds)\n",
        "\t# sum across ensemble members\n",
        "for i in range(y_test_preds_np.shape[0]):\n",
        "  for j in range(y_test_preds_np.shape[1]):\n",
        "    index = np.argmax(y_test_preds_np[i][j])\n",
        "    y_test_preds_np[i][j][index] = 1\n",
        "y_test_pred_ensemble_sum = np.sum(y_test_preds_np, axis=0)\n",
        "\n",
        "accuracy_score(np.argmax(y_test, axis=1), np.argmax(y_test_pred_ensemble_sum, axis=1))"
      ],
      "execution_count": null,
      "outputs": [
        {
          "output_type": "execute_result",
          "data": {
            "text/plain": [
              "0.6231292517006802"
            ]
          },
          "metadata": {},
          "execution_count": 39
        }
      ]
    },
    {
      "cell_type": "code",
      "metadata": {
        "colab": {
          "base_uri": "https://localhost:8080/"
        },
        "id": "QizacHD_lupE",
        "outputId": "a1c12caa-04b8-4c58-98d1-1518ce7b5024"
      },
      "source": [
        "from sklearn.metrics import accuracy_score\n",
        "\n",
        "model_test_inputs = [x_test_mfcc, x_test_chroma, x_test_lyric, x_test_aart]\n",
        "#models = [model_mfcc, model_chroma, model_lyric, model_aart]\n",
        "model_accuracies = [0.52, 0.42, 0.48, 0.37]\n",
        "#model_weights = [np.log(p/(1-p)) for p in model_accuracies]\n",
        "model_weights = model_accuracies\n",
        "#model_weights = [1,1,1,1]\n",
        "\n",
        "#def ensemble_predictions():\n",
        "\t# make predictions\n",
        "y_test_preds = [model.predict(model_test_inputs[i]) for i, model in enumerate(models)]\n",
        "y_test_preds_np = np.array(y_test_preds)\n",
        "\t# sum across ensemble members\n",
        "for i in range(y_test_preds_np.shape[0]):\n",
        "  for j in range(y_test_preds_np.shape[1]):\n",
        "    index = np.argmax(y_test_preds_np[i][j])\n",
        "    y_test_preds_np[i][j][index] = 1\n",
        "\t# sum across ensemble members\n",
        "y_test_pred_ensemble_sum = np.tensordot(np.array(y_test_preds_np), np.array(model_weights), axes=((0),(0)))\n",
        "\n",
        "accuracy_score(np.argmax(y_test, axis=1), np.argmax(y_test_pred_ensemble_sum, axis=1))"
      ],
      "execution_count": null,
      "outputs": [
        {
          "output_type": "execute_result",
          "data": {
            "text/plain": [
              "0.617687074829932"
            ]
          },
          "metadata": {},
          "execution_count": 33
        }
      ]
    },
    {
      "cell_type": "code",
      "source": [
        "from sklearn.metrics import accuracy_score\n",
        "\n",
        "model_test_inputs = [x_test_mfcc, x_test_chroma, x_test_lyric, x_test_aart]\n",
        "#models = [model_mfcc, model_chroma, model_lyric, model_aart]\n",
        "model_accuracies = [0.52, 0.42, 0.48, 0.37]\n",
        "model_weights = [100*np.log(p/(1-p)) for p in model_accuracies]\n",
        "#model_weights = model_accuracies\n",
        "#model_weights = [1,1,1,1]\n",
        "\n",
        "#def ensemble_predictions():\n",
        "\t# make predictions\n",
        "y_test_preds = [model.predict(model_test_inputs[i]) for i, model in enumerate(models)]\n",
        "'''y_test_preds_np = np.array(y_test_preds)\n",
        "\t# sum across ensemble members\n",
        "for i in range(y_test_preds_np.shape[0]):\n",
        "  for j in range(y_test_preds_np.shape[1]):\n",
        "    index = np.argmax(y_test_preds_np[i][j])\n",
        "    y_test_preds_np[i][j][index] = 1\n",
        "\t'''# sum across ensemble members\n",
        "y_test_pred_ensemble_sum = np.tensordot(np.array(y_test_preds), np.array(model_weights), axes=((0),(0)))\n",
        "\n",
        "accuracy_score(np.argmax(y_test, axis=1), np.argmax(y_test_pred_ensemble_sum, axis=1))"
      ],
      "metadata": {
        "colab": {
          "base_uri": "https://localhost:8080/"
        },
        "id": "G1rZWJAbp3TE",
        "outputId": "6c375e5e-4e37-44cc-d41a-ad39b76363e9"
      },
      "execution_count": null,
      "outputs": [
        {
          "output_type": "execute_result",
          "data": {
            "text/plain": [
              "0.04353741496598639"
            ]
          },
          "metadata": {},
          "execution_count": 37
        }
      ]
    },
    {
      "cell_type": "code",
      "source": [
        "model_weights"
      ],
      "metadata": {
        "colab": {
          "base_uri": "https://localhost:8080/"
        },
        "id": "9PTseBHq88Mr",
        "outputId": "b9de8d7a-acdd-4f82-f5eb-99ce18b1e1d9"
      },
      "execution_count": null,
      "outputs": [
        {
          "output_type": "execute_result",
          "data": {
            "text/plain": [
              "[8.004270767353656,\n",
              " -32.277339226305116,\n",
              " -8.004270767353649,\n",
              " -53.22168137473082]"
            ]
          },
          "metadata": {},
          "execution_count": 36
        }
      ]
    },
    {
      "cell_type": "code",
      "metadata": {
        "colab": {
          "base_uri": "https://localhost:8080/"
        },
        "id": "3mPHjGyphAcm",
        "outputId": "46bc5164-dd44-43f3-f58d-5851c6cbde29"
      },
      "source": [
        "y_test_pred_ensemble_sum"
      ],
      "execution_count": null,
      "outputs": [
        {
          "output_type": "execute_result",
          "data": {
            "text/plain": [
              "array([[3.        , 0.48691565, 0.3314306 , ..., 0.03559726, 0.0859615 ,\n",
              "        1.7975464 ],\n",
              "       [3.        , 0.91536945, 0.2203044 , ..., 0.81932515, 0.59758186,\n",
              "        0.14262219],\n",
              "       [3.        , 0.19572201, 0.13651457, ..., 0.00635671, 0.00963621,\n",
              "        2.6426616 ],\n",
              "       ...,\n",
              "       [3.        , 0.08284047, 0.23350047, ..., 1.5521953 , 0.37546253,\n",
              "        0.02303913],\n",
              "       [3.        , 0.09678163, 0.05083098, ..., 0.17140123, 0.03775009,\n",
              "        0.00923255],\n",
              "       [3.        , 0.10090341, 0.03753807, ..., 0.4911609 , 0.07235859,\n",
              "        0.00355663]], dtype=float32)"
            ]
          },
          "metadata": {},
          "execution_count": 162
        }
      ]
    },
    {
      "cell_type": "code",
      "metadata": {
        "colab": {
          "base_uri": "https://localhost:8080/",
          "height": 513
        },
        "id": "8olQw8qjqKGj",
        "outputId": "765906a4-285a-45e1-a7a8-cc2fdeb97b23"
      },
      "source": [
        "from sklearn.metrics import confusion_matrix\n",
        "#y_pred = model_misc_feature.predict(x_test_misc_features)\n",
        "cm = confusion_matrix(np.argmax(y_test, axis=1), np.argmax(y_test_pred_ensemble_sum, axis=1))\n",
        "cm_df = pd.DataFrame(cm*genre_count/cm.sum(), index = genre_labels, columns = genre_labels)\n",
        "\n",
        "#Plotting the confusion matrix\n",
        "plt.figure(figsize=(16,8))\n",
        "sns.heatmap(cm_df, annot=True)\n",
        "plt.title('Confusion Matrix: Ensemble')\n",
        "plt.ylabel('Actal Values')\n",
        "plt.xlabel('Predicted Values')\n",
        "plt.show()"
      ],
      "execution_count": null,
      "outputs": [
        {
          "output_type": "display_data",
          "data": {
            "image/png": "[encoded data removed]",
            "text/plain": [
              "<Figure size 1152x576 with 2 Axes>"
            ]
          },
          "metadata": {
            "needs_background": "light"
          }
        }
      ]
    },
    {
      "cell_type": "code",
      "metadata": {
        "colab": {
          "base_uri": "https://localhost:8080/"
        },
        "id": "rxIPAsyDqKNq",
        "outputId": "70d544ff-2e8b-4ca8-c4a2-47073eb9d9e0"
      },
      "source": [
        "from sklearn.metrics import classification_report\n",
        "print('\\nClassification Report Ensemble\\n')\n",
        "print(classification_report(np.argmax(y_test, axis=1), np.argmax(y_test_pred_ensemble_sum, axis=1), target_names=genre_labels))"
      ],
      "execution_count": null,
      "outputs": [
        {
          "output_type": "stream",
          "name": "stdout",
          "text": [
            "\n",
            "Classification Report Ensemble\n",
            "\n",
            "              precision    recall  f1-score   support\n",
            "\n",
            "  Electronic       0.65      0.60      0.63       209\n",
            "        Rock       0.49      0.26      0.34       227\n",
            "         Pop       0.43      0.34      0.38       195\n",
            "       Metal       0.77      0.82      0.79       211\n",
            "         Rap       0.75      0.88      0.81       219\n",
            "         RnB       0.61      0.54      0.57       200\n",
            "     Country       0.56      0.91      0.69       209\n",
            "\n",
            "    accuracy                           0.62      1470\n",
            "   macro avg       0.61      0.62      0.60      1470\n",
            "weighted avg       0.61      0.62      0.60      1470\n",
            "\n"
          ]
        }
      ]
    },
    {
      "cell_type": "code",
      "metadata": {
        "colab": {
          "base_uri": "https://localhost:8080/"
        },
        "id": "USxpHmDwsTYn",
        "outputId": "842737de-a691-4925-e2b5-cdf9634235b5"
      },
      "source": [
        "observed_accuracy = 0.62\n",
        "random_accuracy = 1/7\n",
        "\n",
        "kappa = (observed_accuracy-random_accuracy)/(1-random_accuracy)\n",
        "kappa"
      ],
      "execution_count": null,
      "outputs": [
        {
          "output_type": "execute_result",
          "data": {
            "text/plain": [
              "0.5566666666666666"
            ]
          },
          "metadata": {},
          "execution_count": 42
        }
      ]
    },
    {
      "cell_type": "code",
      "metadata": {
        "colab": {
          "base_uri": "https://localhost:8080/"
        },
        "id": "oK-AuIy8sxIk",
        "outputId": "5cbbcdf9-aa4c-402f-ac4d-005506289107"
      },
      "source": [
        "observed_accuracy = 0.477\n",
        "random_accuracy = 1/15\n",
        "\n",
        "kappa = (observed_accuracy-random_accuracy)/(1-random_accuracy)\n",
        "kappa"
      ],
      "execution_count": null,
      "outputs": [
        {
          "output_type": "execute_result",
          "data": {
            "text/plain": [
              "0.4396428571428571"
            ]
          },
          "metadata": {},
          "execution_count": 43
        }
      ]
    },
    {
      "cell_type": "code",
      "source": [
        "observed_accuracy = 0.49\n",
        "random_accuracy = 1/15\n",
        "\n",
        "kappa = (observed_accuracy-random_accuracy)/(1-random_accuracy)\n",
        "kappa"
      ],
      "metadata": {
        "colab": {
          "base_uri": "https://localhost:8080/"
        },
        "id": "W6pEfK1sJHIn",
        "outputId": "f488eca8-5d6f-45ac-929c-08adf37dd5a8"
      },
      "execution_count": 12,
      "outputs": [
        {
          "output_type": "execute_result",
          "data": {
            "text/plain": [
              "0.45357142857142857"
            ]
          },
          "metadata": {},
          "execution_count": 12
        }
      ]
    },
    {
      "cell_type": "code",
      "metadata": {
        "colab": {
          "base_uri": "https://localhost:8080/",
          "height": 369
        },
        "id": "OAc6zwgatBD_",
        "outputId": "064c7cc4-d9cc-47a1-f6d5-908ac5f3b2b4"
      },
      "source": [
        "model_accuracies = [0.65, 0.52, 0.48, 0.42, 0.37]\n",
        "model_names = ['Combined', 'Timbre', 'Lyric', 'Chroma', 'Album Art']\n",
        "\n",
        "\n",
        "fig, ax = plt.subplots(figsize = (10,5))\n",
        "ax.bar(model_names,model_accuracies,width=0.4)\n",
        "\n",
        "#for index,data in enumerate(model_accuracies):\n",
        "#    plt.text(x=index, y =str(data)+ '%', s=f\"{data}\" , fontdict=dict(fontsize=20))\n",
        "ax.set_ylabel('Accuracy')\n",
        "ax.set_xlabel('Models')\n",
        "plt.tight_layout()\n",
        "plt.show()"
      ],
      "execution_count": 7,
      "outputs": [
        {
          "output_type": "display_data",
          "data": {
            "image/png": "[encoded data removed]",
            "text/plain": [
              "<Figure size 720x360 with 1 Axes>"
            ]
          },
          "metadata": {
            "needs_background": "light"
          }
        }
      ]
    }
  ]
}